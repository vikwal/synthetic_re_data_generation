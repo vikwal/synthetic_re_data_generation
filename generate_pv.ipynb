{
 "cells": [
  {
   "cell_type": "markdown",
   "metadata": {},
   "source": [
    "# Generating Synthetic PV Power Time Series"
   ]
  },
  {
   "cell_type": "code",
   "execution_count": 7,
   "metadata": {},
   "outputs": [],
   "source": [
    "import os\n",
    "import yaml\n",
    "import numpy as np\n",
    "import pandas as pd\n",
    "import pvlib\n",
    "import matplotlib.pyplot as plt\n",
    "import matplotlib.dates as mdates\n",
    "\n",
    "from sklearn.impute import KNNImputer\n",
    "from sklearn.preprocessing import StandardScaler\n",
    "\n",
    "import utils, clean_data, generate_pv"
   ]
  },
  {
   "cell_type": "code",
   "execution_count": 8,
   "metadata": {},
   "outputs": [],
   "source": [
    "config_path = \"config.yaml\"\n",
    "config = utils.load_config(config_path)\n",
    "\n",
    "dir = os.path.join(config['data']['raw_dir'], 'solar')\n",
    "features = config['features']\n",
    "params = config['wind_params']\n",
    "\n",
    "pv_features, _ = clean_data.relevant_features(features=features)\n",
    "\n",
    "plot_names = ['Total', 'Direct', 'Diffuse']"
   ]
  },
  {
   "cell_type": "code",
   "execution_count": 9,
   "metadata": {},
   "outputs": [
    {
     "ename": "IndexError",
     "evalue": "list index out of range",
     "output_type": "error",
     "traceback": [
      "\u001b[0;31m---------------------------------------------------------------------------\u001b[0m",
      "\u001b[0;31mIndexError\u001b[0m                                Traceback (most recent call last)",
      "Cell \u001b[0;32mIn[9], line 2\u001b[0m\n\u001b[1;32m      1\u001b[0m files \u001b[38;5;241m=\u001b[39m os\u001b[38;5;241m.\u001b[39mlistdir(\u001b[38;5;28mdir\u001b[39m)\n\u001b[0;32m----> 2\u001b[0m file \u001b[38;5;241m=\u001b[39m \u001b[43mfiles\u001b[49m\u001b[43m[\u001b[49m\u001b[38;5;241;43m0\u001b[39;49m\u001b[43m]\u001b[49m\n\u001b[1;32m      4\u001b[0m data \u001b[38;5;241m=\u001b[39m pd\u001b[38;5;241m.\u001b[39mread_csv(os\u001b[38;5;241m.\u001b[39mpath\u001b[38;5;241m.\u001b[39mjoin(\u001b[38;5;28mdir\u001b[39m, file))\n\u001b[1;32m      5\u001b[0m data[\u001b[38;5;124m'\u001b[39m\u001b[38;5;124mtimestamp\u001b[39m\u001b[38;5;124m'\u001b[39m] \u001b[38;5;241m=\u001b[39m pd\u001b[38;5;241m.\u001b[39mto_datetime(data[\u001b[38;5;124m'\u001b[39m\u001b[38;5;124mtimestamp\u001b[39m\u001b[38;5;124m'\u001b[39m])\n",
      "\u001b[0;31mIndexError\u001b[0m: list index out of range"
     ]
    }
   ],
   "source": [
    "files = os.listdir(dir)\n",
    "file = files[0]\n",
    "\n",
    "data = pd.read_csv(os.path.join(dir, file))\n",
    "data['timestamp'] = pd.to_datetime(data['timestamp'])\n",
    "#df['timestamp'] = df['timestamp'].dt.tz_localize(\"UTC\").dt.tz_convert(\"Europe/Berlin\")\n",
    "data.set_index('timestamp', inplace=True)"
   ]
  },
  {
   "cell_type": "code",
   "execution_count": 50,
   "metadata": {},
   "outputs": [
    {
     "name": "stdout",
     "output_type": "stream",
     "text": [
      "<class 'pandas.core.frame.DataFrame'>\n",
      "DatetimeIndex: 79200 entries, 2023-05-26 00:00:00 to 2024-11-25 23:50:00\n",
      "Data columns (total 15 columns):\n",
      " #   Column         Non-Null Count  Dtype  \n",
      "---  ------         --------------  -----  \n",
      " 0   STATIONS_ID    79200 non-null  int64  \n",
      " 1   PP_10          79200 non-null  float64\n",
      " 2   TT_10          79200 non-null  float64\n",
      " 3   TM5_10         79200 non-null  float64\n",
      " 4   RF_10          79200 non-null  float64\n",
      " 5   TD_10          79200 non-null  float64\n",
      " 6   FF_10          79200 non-null  float64\n",
      " 7   DD_10          79200 non-null  int64  \n",
      " 8   DS_10          79200 non-null  float64\n",
      " 9   GS_10          79200 non-null  float64\n",
      " 10  SD_10          79200 non-null  float64\n",
      " 11  LS_10          79200 non-null  int64  \n",
      " 12  Stationshoehe  79200 non-null  float64\n",
      " 13  geoBreite      79200 non-null  float64\n",
      " 14  geoLaenge      79200 non-null  float64\n",
      "dtypes: float64(12), int64(3)\n",
      "memory usage: 9.7 MB\n"
     ]
    }
   ],
   "source": [
    "data.info()"
   ]
  },
  {
   "cell_type": "code",
   "execution_count": null,
   "metadata": {},
   "outputs": [],
   "source": [
    "irrelevant_features = ['STATIONS_ID', 'Stationshoehe', 'geoBreite', 'geoLaenge']\n",
    "\n",
    "stations_id = data[irrelevant_features[0]].iloc[0]\n",
    "stations_height = data[irrelevant_features[1]].iloc[0]\n",
    "latitude = data[irrelevant_features[2]].iloc[0]\n",
    "longitude = data[irrelevant_features[3]].iloc[0]\n",
    "\n",
    "data.drop(irrelevant_features, axis=1, inplace=True)"
   ]
  },
  {
   "cell_type": "markdown",
   "metadata": {},
   "source": [
    "### Analysis of missing values"
   ]
  },
  {
   "cell_type": "code",
   "execution_count": null,
   "metadata": {},
   "outputs": [],
   "source": [
    "data.isna().sum()"
   ]
  },
  {
   "cell_type": "code",
   "execution_count": null,
   "metadata": {},
   "outputs": [],
   "source": [
    "missing_per_column_per_day = data.groupby(data.index.date).apply(lambda x: x.isna().sum())\n",
    "missing_per_column_per_day[(missing_per_column_per_day != 0).any(axis=1)].drop(['STATIONS_ID', 'Stationshoehe', 'geoBreite', 'geoLaenge'], axis=1)"
   ]
  },
  {
   "cell_type": "markdown",
   "metadata": {},
   "source": [
    "We can try to impute with KNNImputer\n",
    "\n",
    "To help KNNImputer estimating the temporal saisonalities we add encoded temporal features."
   ]
  },
  {
   "cell_type": "code",
   "execution_count": null,
   "metadata": {},
   "outputs": [],
   "source": [
    "data['hour_sin'] = np.sin(2 * np.pi * data.index.hour / 24)\n",
    "data['hour_cos'] = np.cos(2 * np.pi * data.index.hour / 24)\n",
    "data['month_sin'] = np.sin(2 * np.pi * data.index.month / 12)\n",
    "data['month_cos'] = np.cos(2 * np.pi * data.index.month / 12)"
   ]
  },
  {
   "cell_type": "markdown",
   "metadata": {},
   "source": [
    "We have to determine the optimal number of neighbors in beforehand."
   ]
  },
  {
   "cell_type": "code",
   "execution_count": null,
   "metadata": {},
   "outputs": [],
   "source": [
    "# to be done"
   ]
  },
  {
   "cell_type": "code",
   "execution_count": null,
   "metadata": {},
   "outputs": [],
   "source": [
    "imputer = KNNImputer(n_neighbors=5)\n",
    "scaler = StandardScaler()\n",
    "df_scaled = scaler.fit_transform(data)\n",
    "df = pd.DataFrame(scaler.inverse_transform(imputer.fit_transform(df_scaled)), columns=data.columns, index=data.index)\n",
    "df.drop(['hour_sin', 'hour_cos', 'month_sin', 'month_cos'], axis=1, inplace=True)"
   ]
  },
  {
   "cell_type": "code",
   "execution_count": null,
   "metadata": {},
   "outputs": [],
   "source": [
    "df"
   ]
  },
  {
   "cell_type": "code",
   "execution_count": null,
   "metadata": {},
   "outputs": [],
   "source": [
    "def plot_power_and_features(day: str,\n",
    "                            plot_names: list,\n",
    "                            features: list,\n",
    "                            power: pd.Series,\n",
    "                            synchronize_axes=True,\n",
    "                            save_fig=False\n",
    "                            ):\n",
    "\n",
    "    day = pd.Timestamp(day)\n",
    "    index_0 = power.index.get_loc(day)\n",
    "    index_1 = power.index.get_loc(day + pd.Timedelta(days=1))\n",
    "    date = str(features[0].index[index_0:index_1][0].date())\n",
    "\n",
    "    fig, ax1 = plt.subplots(figsize=(10, 6))\n",
    "    fontsize = 14\n",
    "    lines = []\n",
    "    title_suffix = ''\n",
    "\n",
    "    # plot power\n",
    "    line1, = ax1.plot(\n",
    "    power[index_0:index_1],\n",
    "    label=\"Power Output (W)\",\n",
    "    color=\"black\",\n",
    "    linewidth=2.0\n",
    "    )\n",
    "    lines.append(line1)\n",
    "\n",
    "    # configure secondary y-axis\n",
    "    ax1.set_xlabel(\"Time\", fontsize=fontsize)\n",
    "    ax1.set_ylabel(\"Power Output (W)\", fontsize=fontsize)\n",
    "    ax1.tick_features(axis='y', labelsize=fontsize)\n",
    "    ax1.tick_features(axis='x', labelsize=fontsize-2)\n",
    "\n",
    "    ax2 = ax1.twinx()\n",
    "    # plot irradiance components\n",
    "    for name, series in zip(plot_names, features):\n",
    "        line, = ax2.plot(\n",
    "            series[index_0:index_1],\n",
    "            label=f\"{name} (W/m$^2$)\",\n",
    "            linestyle='--',\n",
    "            linewidth=2.0\n",
    "        )\n",
    "        lines.append(line)\n",
    "\n",
    "    # configure primary y-axis\n",
    "    ax2.set_ylabel(\"Energy flux density (W/m$^2$)\", fontsize=fontsize)\n",
    "    ax2.tick_features(axis='y', labelsize=fontsize)\n",
    "\n",
    "    # Format x-axis to show only hours (HH)\n",
    "    ax1.xaxis.set_major_locator(mdates.HourLocator(interval=1))\n",
    "    ax1.xaxis.set_major_formatter(mdates.DateFormatter('%H'))\n",
    "    ticks = ax1.get_xticks()\n",
    "    ax1.set_xticks(ticks[1:-1])\n",
    "\n",
    "\n",
    "    # Synchronize y-axes\n",
    "    if synchronize_axes:\n",
    "        title_suffix = '(synched axes)'\n",
    "        all_ghi_min = min([series[index_0:index_1].min() for series in features])\n",
    "        all_ghi_max = max([series[index_0:index_1].max() for series in features])\n",
    "        y_min = min(all_ghi_min, power[index_0:index_1].min())\n",
    "        y_max = max(all_ghi_max, power[index_0:index_1].max())\n",
    "        ax1.set_ylim(y_min, y_max)\n",
    "        ax2.set_ylim(y_min, y_max)\n",
    "\n",
    "    # legend\n",
    "    lines.append(lines.pop(0))\n",
    "    labels = [line.get_label() for line in lines]\n",
    "    ax1.legend(lines, labels, loc=\"upper left\", fontsize=fontsize)\n",
    "\n",
    "    plt.title(f\"Irradiance and Power Output on {date} {title_suffix}\", fontsize=fontsize)\n",
    "    fig.tight_layout()\n",
    "    #plt.grid(True)\n",
    "    if save_fig:\n",
    "        save_path = 'figs/PV'\n",
    "        os.makedirs(save_path, exist_ok=True)\n",
    "        save_file = os.path.join(save_path, f'{date}.png')\n",
    "        plt.savefig(save_file, dpi=300)\n",
    "        plt.close()\n",
    "    else:\n",
    "        plt.show()"
   ]
  },
  {
   "cell_type": "code",
   "execution_count": null,
   "metadata": {},
   "outputs": [],
   "source": [
    "total_irradiance, cell_temperature = get_features(data=df,\n",
    "                                                  features=features,\n",
    "                                                  params=params)\n",
    "total = total_irradiance['poa_global']\n",
    "direct = total_irradiance['poa_direct']\n",
    "diffuse = total_irradiance['poa_diffuse']\n",
    "#sky_dhi = total_irradiance['poa_sky_diffuse']\n",
    "#ground_dhi = total_irradiance['poa_ground_diffuse']\n",
    "features = [total, direct, diffuse]\n",
    "\n",
    "power = generate_pv_power(total_irradiance=total,\n",
    "                          cell_temperature=cell_temperature,\n",
    "                          params=params)"
   ]
  },
  {
   "cell_type": "code",
   "execution_count": 58,
   "metadata": {},
   "outputs": [],
   "source": [
    "day = '2023-06-04'\n",
    "\n",
    "plot_power_and_features(day=day,\n",
    "                        plot_names=plot_names,\n",
    "                        features=features,\n",
    "                        power=power,\n",
    "                        synchronize_axes=True,\n",
    "                        save_fig=True)\n",
    "\n",
    "plot_power_and_features(day=day,\n",
    "                        plot_names=plot_names,\n",
    "                        features=features,\n",
    "                        power=power,\n",
    "                        synchronize_axes=False,\n",
    "                        save_fig=True)"
   ]
  },
  {
   "cell_type": "code",
   "execution_count": null,
   "metadata": {},
   "outputs": [],
   "source": [
    "for day in np.unique(df.index.date):\n",
    "    plot_power_and_features(day=str(day),\n",
    "                            plot_names=plot_names,\n",
    "                            features=features,\n",
    "                            power=power,\n",
    "                            synchronize_axes=False,\n",
    "                            save_fig=True)"
   ]
  }
 ],
 "metadata": {
  "kernelspec": {
   "display_name": "synthre",
   "language": "python",
   "name": "python3"
  },
  "language_info": {
   "codemirror_mode": {
    "name": "ipython",
    "version": 3
   },
   "file_extension": ".py",
   "mimetype": "text/x-python",
   "name": "python",
   "nbconvert_exporter": "python",
   "pygments_lexer": "ipython3",
   "version": "3.12.3"
  }
 },
 "nbformat": 4,
 "nbformat_minor": 2
}
