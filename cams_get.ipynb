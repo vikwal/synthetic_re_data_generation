{
 "cells": [
  {
   "cell_type": "markdown",
   "metadata": {},
   "source": [
    "# CAMS Download\n",
    "https://ads.atmosphere.copernicus.eu/datasets/cams-europe-air-quality-forecasts?tab=download"
   ]
  },
  {
   "cell_type": "code",
   "execution_count": 1,
   "metadata": {},
   "outputs": [],
   "source": [
    "import os\n",
    "import cdsapi"
   ]
  },
  {
   "cell_type": "code",
   "execution_count": 5,
   "metadata": {},
   "outputs": [],
   "source": [
    "# params\n",
    "\n",
    "downloads_dir = 'data'\n",
    "start = '2023-07-24'\n",
    "end = '2025-01-31'\n",
    "\n",
    "features =  [\n",
    "        \"particulate_matter_2.5um\",\n",
    "        \"particulate_matter_10um\",\n",
    "    ]"
   ]
  },
  {
   "cell_type": "code",
   "execution_count": null,
   "metadata": {},
   "outputs": [
    {
     "name": "stderr",
     "output_type": "stream",
     "text": [
      "2025-01-20 11:19:51,935 INFO [2024-09-26T00:00:00] **Welcome to the New Atmosphere Data Store (ADS)!** This new system is in its early days of full operations and still undergoing enhancements and fine tuning. Some disruptions are to be expected. Your \n",
      "[feedback](https://jira.ecmwf.int/plugins/servlet/desk/portal/1/create/202) is key to improve the user experience on the new ADS for the benefit of everyone. Thank you.\n",
      "2025-01-20 11:19:51,936 INFO [2024-09-26T00:00:00] Watch our [Forum]( https://forum.ecmwf.int/) for Announcements, news and other discussed topics.\n",
      "2025-01-20 11:19:52,585 INFO Request ID is 2f3db7e3-629a-4c93-a6b0-f3099f149863\n",
      "2025-01-20 11:19:52,656 INFO status has been updated to accepted\n",
      "2025-01-20 11:20:06,861 INFO status has been updated to running\n"
     ]
    }
   ],
   "source": [
    "dataset = \"cams-europe-air-quality-forecasts\"\n",
    "request = {\n",
    "    \"variable\": features,\n",
    "    \"model\": [\"ensemble\"],\n",
    "    \"level\": [\"0\"],\n",
    "    \"date\": [f\"{start}/{end}\"],\n",
    "    \"type\": [\"analysis\"],\n",
    "    \"time\": [\n",
    "        \"00:00\", \"01:00\", \"02:00\",\n",
    "        \"03:00\", \"04:00\", \"05:00\",\n",
    "        \"06:00\", \"07:00\", \"08:00\",\n",
    "        \"09:00\", \"10:00\", \"11:00\",\n",
    "        \"12:00\", \"13:00\", \"14:00\",\n",
    "        \"15:00\", \"16:00\", \"17:00\",\n",
    "        \"18:00\", \"19:00\", \"20:00\",\n",
    "        \"21:00\", \"22:00\", \"23:00\"\n",
    "    ],\n",
    "    \"leadtime_hour\": [\"0\"],\n",
    "    \"data_format\": \"grib\",\n",
    "    \"area\": [55.06, 5.86, 47.26, 15.05]\n",
    "}\n",
    "\n",
    "client = cdsapi.Client()\n",
    "path = client.retrieve(dataset, request).download()"
   ]
  },
  {
   "cell_type": "code",
   "execution_count": null,
   "metadata": {},
   "outputs": [],
   "source": [
    "new_path = f'{downloads_dir}/CAMS_{start}_{end}.grib'\n",
    "\n",
    "os.rename(path, new_path)"
   ]
  }
 ],
 "metadata": {
  "kernelspec": {
   "display_name": "wthr",
   "language": "python",
   "name": "python3"
  },
  "language_info": {
   "codemirror_mode": {
    "name": "ipython",
    "version": 3
   },
   "file_extension": ".py",
   "mimetype": "text/x-python",
   "name": "python",
   "nbconvert_exporter": "python",
   "pygments_lexer": "ipython3",
   "version": "3.10.14"
  }
 },
 "nbformat": 4,
 "nbformat_minor": 2
}
