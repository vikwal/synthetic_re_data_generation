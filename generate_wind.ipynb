{
 "cells": [
  {
   "cell_type": "markdown",
   "metadata": {},
   "source": [
    "# Generating Synthetic Wind Power Time Series"
   ]
  },
  {
   "cell_type": "code",
   "execution_count": 2,
   "metadata": {},
   "outputs": [],
   "source": [
    "import os\n",
    "import yaml\n",
    "import pandas as pd\n",
    "import numpy as np\n",
    "#import pvlib"
   ]
  },
  {
   "cell_type": "code",
   "execution_count": 3,
   "metadata": {},
   "outputs": [],
   "source": [
    "def load_config(config_path):\n",
    "    with open(config_path, \"r\") as file:\n",
    "        return yaml.safe_load(file)"
   ]
  },
  {
   "cell_type": "code",
   "execution_count": 4,
   "metadata": {},
   "outputs": [],
   "source": [
    "config_path = \"config.yaml\"\n",
    "config = load_config(config_path)\n",
    "\n",
    "params = config['synth']\n",
    "\n",
    "installed_power = 100\n",
    "hub_height = 100, \n",
    "rated_power = 1000,\n",
    "Cp = 0.59,\n",
    "rotor_diameter = 60, \n",
    "alpha = 0.1,\n",
    "cut_in_speed = 3, \n",
    "rated_speed = 12.5,\n",
    "cut_out_speed = 25, \n",
    "z_ref = 10"
   ]
  },
  {
   "cell_type": "code",
   "execution_count": 5,
   "metadata": {},
   "outputs": [
    {
     "ename": "TypeError",
     "evalue": "listdir: path should be string, bytes, os.PathLike, integer or None, not builtin_function_or_method",
     "output_type": "error",
     "traceback": [
      "\u001b[0;31m---------------------------------------------------------------------------\u001b[0m",
      "\u001b[0;31mTypeError\u001b[0m                                 Traceback (most recent call last)",
      "\u001b[0;32m/tmp/ipykernel_1570901/924242915.py\u001b[0m in \u001b[0;36m<module>\u001b[0;34m\u001b[0m\n\u001b[0;32m----> 1\u001b[0;31m \u001b[0mfiles\u001b[0m \u001b[0;34m=\u001b[0m \u001b[0mos\u001b[0m\u001b[0;34m.\u001b[0m\u001b[0mlistdir\u001b[0m\u001b[0;34m(\u001b[0m\u001b[0mdir\u001b[0m\u001b[0;34m)\u001b[0m\u001b[0;34m\u001b[0m\u001b[0;34m\u001b[0m\u001b[0m\n\u001b[0m\u001b[1;32m      2\u001b[0m \u001b[0mfile\u001b[0m \u001b[0;34m=\u001b[0m \u001b[0mfiles\u001b[0m\u001b[0;34m[\u001b[0m\u001b[0;36m0\u001b[0m\u001b[0;34m]\u001b[0m\u001b[0;34m\u001b[0m\u001b[0;34m\u001b[0m\u001b[0m\n\u001b[1;32m      3\u001b[0m \u001b[0;34m\u001b[0m\u001b[0m\n\u001b[1;32m      4\u001b[0m \u001b[0mdf\u001b[0m \u001b[0;34m=\u001b[0m \u001b[0mpd\u001b[0m\u001b[0;34m.\u001b[0m\u001b[0mread_csv\u001b[0m\u001b[0;34m(\u001b[0m\u001b[0mos\u001b[0m\u001b[0;34m.\u001b[0m\u001b[0mpath\u001b[0m\u001b[0;34m.\u001b[0m\u001b[0mjoin\u001b[0m\u001b[0;34m(\u001b[0m\u001b[0mdir\u001b[0m\u001b[0;34m,\u001b[0m \u001b[0mfile\u001b[0m\u001b[0;34m)\u001b[0m\u001b[0;34m)\u001b[0m\u001b[0;34m\u001b[0m\u001b[0;34m\u001b[0m\u001b[0m\n\u001b[1;32m      5\u001b[0m \u001b[0mdf\u001b[0m\u001b[0;34m[\u001b[0m\u001b[0;34m'timestamp'\u001b[0m\u001b[0;34m]\u001b[0m \u001b[0;34m=\u001b[0m \u001b[0mpd\u001b[0m\u001b[0;34m.\u001b[0m\u001b[0mto_datetime\u001b[0m\u001b[0;34m(\u001b[0m\u001b[0mdf\u001b[0m\u001b[0;34m[\u001b[0m\u001b[0;34m'timestamp'\u001b[0m\u001b[0;34m]\u001b[0m\u001b[0;34m)\u001b[0m\u001b[0;34m\u001b[0m\u001b[0;34m\u001b[0m\u001b[0m\n",
      "\u001b[0;31mTypeError\u001b[0m: listdir: path should be string, bytes, os.PathLike, integer or None, not builtin_function_or_method"
     ]
    }
   ],
   "source": [
    "files = os.listdir(dir)\n",
    "file = files[0]\n",
    "\n",
    "df = pd.read_csv(os.path.join(dir, file))\n",
    "df['timestamp'] = pd.to_datetime(df['timestamp'])\n",
    "df.set_index('timestamp', inplace=True)\n",
    "\n",
    "df.drop(['  QN_x', '  QN_y', '  QN'], axis=1, inplace=True)"
   ]
  },
  {
   "cell_type": "code",
   "execution_count": 15,
   "metadata": {},
   "outputs": [
    {
     "name": "stdout",
     "output_type": "stream",
     "text": [
      "<class 'pandas.core.frame.DataFrame'>\n",
      "DatetimeIndex: 79200 entries, 2023-05-26 00:00:00 to 2024-11-25 23:50:00\n",
      "Data columns (total 15 columns):\n",
      " #   Column         Non-Null Count  Dtype  \n",
      "---  ------         --------------  -----  \n",
      " 0   STATIONS_ID    79200 non-null  int64  \n",
      " 1   PP_10          79200 non-null  float64\n",
      " 2   TT_10          79200 non-null  float64\n",
      " 3   TM5_10         79200 non-null  float64\n",
      " 4   RF_10          79200 non-null  float64\n",
      " 5   TD_10          79200 non-null  float64\n",
      " 6   FF_10          79200 non-null  float64\n",
      " 7   DD_10          79200 non-null  int64  \n",
      " 8   DS_10          79200 non-null  float64\n",
      " 9   GS_10          79200 non-null  float64\n",
      " 10  SD_10          79200 non-null  float64\n",
      " 11  LS_10          79200 non-null  int64  \n",
      " 12  Stationshoehe  79200 non-null  float64\n",
      " 13  geoBreite      79200 non-null  float64\n",
      " 14  geoLaenge      79200 non-null  float64\n",
      "dtypes: float64(12), int64(3)\n",
      "memory usage: 9.7 MB\n"
     ]
    }
   ],
   "source": [
    "df.info()"
   ]
  },
  {
   "cell_type": "markdown",
   "metadata": {},
   "source": [
    "### Saturation state\n",
    "\n",
    "Since not all vapor quantities mix with the non-condensing gas, three states must be distinguished:\n",
    "\n",
    "- <b>Unsaturated</b>: Only the gas phase, namely the gas-vapor mixture, is present. The partial pressure of the vapor $ p_w $ is lower than the saturation vapor pressure $ p_s $. With the partial pressure of the gas $ p_g $ the total pressure can be determined with $ p = p_g + p_d $.\n",
    "  \n",
    "- <b>Saturated</b>: In the gas-vapor mixture the condensation begings. The partial pressure of the vapor is equal to saturation vapor pressure $ p_s = p_w $ . \n",
    "  \n",
    "- <b>Over saturated</b>: There are gas and condensate phases, whereby the gas phase (the gas-vapor mixture) is saturated. The relationships of the saturated state apply to the gas phase."
   ]
  },
  {
   "cell_type": "markdown",
   "metadata": {},
   "source": [
    "### Composition of moist air\n",
    "\n",
    "A distinction is made between absolute and relative humidity, whereby both measure the the H<sub>2</sub>O in the vapor phase.\n",
    "\n",
    "<b>Absolute humidity</b>: Only with respect to the vapor, fog or ice fog is not considered. The absolute humidity is identical with the partial density of water vapor $ \\varrho_d $:\n",
    "\n",
    "$ \\varrho_w = \\frac{m_w}{V_{Mi}} = \\frac{p_w}{R_{H_20}T}$, \n",
    "\n",
    "where \n",
    "- $ m_w $ is the mass of the water vapor,\n",
    "- $ V_{Mi} $ is the volume of the gas mixture,\n",
    "- $ R_{H_2O} $ is the specific gas constant for water,\n",
    "- $ T $ is the temperature of the mixture.\n",
    "\n",
    "In the saturated state $ p_s = p_d $ it is the saturation parital density $ \\varrho_s $:\n",
    "\n",
    "$ \\varrho_s = \\frac{p_s}{R_{H_20}T}$."
   ]
  },
  {
   "cell_type": "markdown",
   "metadata": {},
   "source": [
    "### Relative humidity $ \\phi $ \n",
    "is defined as:\n",
    "\n",
    "$ \\phi = \\frac{\\varrho_w}{\\varrho_s} = \\frac{p_{w}}{p_s} $\n",
    "\n",
    "with:\n",
    "- $ \\phi $: Relative humiditiy \n",
    "- $ p_w $: Partial pressure of water vapor in the air (Pa)\n",
    "- $ p_s $: Saturation vapor pressure (Pa)\n",
    "\n",
    "The saturation vapor pressure $ p_s $ is the maximal partial pressur for the water at given temperature $ T $. A higher $ p_s $ is not possible, because the additional water will condense to liquid or disublimate to solid water (ice). \n",
    "\n",
    "Relative humidity $ \\phi $ can take numerical values in the range $ 0 \\leq \\phi \\leq 1 $. That means:\n",
    "\n",
    "- $ \\phi = 0 $ is dry air,\n",
    "- $ \\phi < 1 $ is unsaturated moist air,\n",
    "- $ \\phi = 1 $ is saturated moist air ($ m_{kon} = 0 $)\n",
    "- $ \\phi = 1 $ is oversaturated moist air ($ m_{kon} > 0 $).\n"
   ]
  },
  {
   "cell_type": "markdown",
   "metadata": {},
   "source": [
    "### Get air density from air pressure, temperature and relative humidity\n",
    "\n",
    "Since we need the density of the air, we need to determine the pressure and gas constant values for the mixture of dry air and water vapor.\n",
    "\n",
    "The air density is therefore dependent from the partial density of the water vapor $ \\varrho_w $ and the partial density of the dry air denoted as $ \\varrho_g $, where $ g $ stands for gas.\n",
    "\n",
    "$ \\rho = \\varrho_g + \\varrho_w = \\frac{p_g}{R_gT} + \\frac{p_w}{R_{H_2O}T} $\n",
    "\n",
    "where $ R_g $ is the specific gas constant for dry air.\n",
    "\n",
    "The specific gas constants are given with:\n",
    "\n",
    "- $ R_g = 287.05 \\frac{J}{kgK} $\n",
    "- $ R_{H_2O} = 461.5 \\frac{J}{kgK} $\n",
    "\n",
    "The partial water vapor pressure is given by first calculating the saturation vapor pressure (Huang, 2018):\n",
    "\n",
    "$ p_s = \\exp\\left(34.4942 - \\frac{4924.99}{t + 237.1}\\right) \\cdot (t + 105)^{1.57} (t > 0°C) $\n",
    "\n",
    "$ p_s = \\exp\\left(43.4942 - \\frac{6545.8}{t + 278}\\right) \\cdot (t + 868)^{-2} (t \\leq 0°C) $\n",
    "\n",
    "With the relative humidity the partial water vapor pressure can be determined:\n",
    "\n",
    "$ p_w = \\phi * p_s $\n",
    "\n",
    "The remaining variable $ p_g $ is calculated by subtracting $ p_g $ from the air pressure $ p $:\n",
    "\n",
    "$ p_g = p - p_w $\n"
   ]
  },
  {
   "cell_type": "code",
   "execution_count": 1,
   "metadata": {},
   "outputs": [
    {
     "ename": "NameError",
     "evalue": "name 'pd' is not defined",
     "output_type": "error",
     "traceback": [
      "\u001b[0;31m---------------------------------------------------------------------------\u001b[0m",
      "\u001b[0;31mNameError\u001b[0m                                 Traceback (most recent call last)",
      "Cell \u001b[0;32mIn[1], line 1\u001b[0m\n\u001b[0;32m----> 1\u001b[0m \u001b[38;5;28;01mdef\u001b[39;00m \u001b[38;5;21mget_rho\u001b[39m(air_pressure: \u001b[43mpd\u001b[49m\u001b[38;5;241m.\u001b[39mSeries, \n\u001b[1;32m      2\u001b[0m             temperature: pd\u001b[38;5;241m.\u001b[39mSeries,\n\u001b[1;32m      3\u001b[0m             relative_humidity: pd\u001b[38;5;241m.\u001b[39mSeries) \u001b[38;5;241m-\u001b[39m\u001b[38;5;241m>\u001b[39m pd\u001b[38;5;241m.\u001b[39mSeries:\n\u001b[1;32m      5\u001b[0m     R_dry \u001b[38;5;241m=\u001b[39m \u001b[38;5;241m287.05\u001b[39m  \u001b[38;5;66;03m# Spezifische Gaskonstante für trockene Luft (J/(kg·K))\u001b[39;00m\n\u001b[1;32m      6\u001b[0m     R_w \u001b[38;5;241m=\u001b[39m \u001b[38;5;241m461.5\u001b[39m  \u001b[38;5;66;03m# Spezifische Gaskonstante für Wasserdampf (J/(kg·K))\u001b[39;00m\n",
      "\u001b[0;31mNameError\u001b[0m: name 'pd' is not defined"
     ]
    }
   ],
   "source": [
    "def get_rho(air_pressure: pd.Series, \n",
    "            temperature: pd.Series,\n",
    "            relative_humidity: pd.Series) -> pd.Series:\n",
    "    \n",
    "    R_dry = 287.05  # Spezifische Gaskonstante für trockene Luft (J/(kg·K))\n",
    "    R_w = 461.5  # Spezifische Gaskonstante für Wasserdampf (J/(kg·K))\n",
    "    \n",
    "    temperature_kelvin = temperature + 273.15 \n",
    "    \n",
    "    p_s = np.where(\n",
    "        temperature > 0,\n",
    "        np.exp(34.4942 - (4924.99 / (temperature + 237.1))) * (temperature + 105) ** 1.57,\n",
    "        np.exp(43.4942 - (6545.8 / (temperature + 278))) * (temperature + 868) ** -2\n",
    "    )\n",
    "    \n",
    "    p_w = relative_humidity * p_s\n",
    "    p_g = air_pressure - p_w\n",
    "    phi_g = p_g / (R_dry * temperature_kelvin)\n",
    "    phi_w = p_w / (R_w * temperature_kelvin)\n",
    "    \n",
    "    air_density = phi_g + phi_w\n",
    "    \n",
    "    return air_density\n",
    "\n",
    "def generate_wind_power(data: pd.DataFrame, \n",
    "                        hub_height: float, \n",
    "                        rated_power: float,\n",
    "                        Cp: float,\n",
    "                        rotor_diameter: float, \n",
    "                        alpha: float = 0.17,\n",
    "                        cut_in_speed: float = 3.5, \n",
    "                        rated_speed: float = 12.5,\n",
    "                        cut_out_speed: float = 25.0, \n",
    "                        z_ref: float = 10.0) -> pd.Series:\n",
    "    \n",
    "    air_pressure = data[params['param_pressure']]\n",
    "    temperature = data[params['param_temperature']]\n",
    "    relhum = data[params['param_relhum']]\n",
    "    \n",
    "    wind_speed_hub = data[params['param_v_wind']] * (hub_height / z_ref) ** alpha\n",
    "    rotor_area = np.pi * (rotor_diameter / 2) ** 2\n",
    "    \n",
    "    rho = get_rho(air_pressure, \n",
    "                  temperature, \n",
    "                  relhum)\n",
    "\n",
    "    def power_curve(ws):\n",
    "        if ws < cut_in_speed:\n",
    "            return 0\n",
    "        elif ws <= rated_speed:\n",
    "            return 0.5 * rho * rotor_area * Cp * ws ** 3\n",
    "        elif ws <= cut_out_speed:\n",
    "            return rated_power\n",
    "        else:\n",
    "            return 0\n",
    "\n",
    "    wind_power = wind_speed_hub.apply(power_curve)\n",
    "\n",
    "    return wind_power"
   ]
  },
  {
   "cell_type": "code",
   "execution_count": null,
   "metadata": {},
   "outputs": [],
   "source": [
    "power = generate_wind_power(data=df, \n",
    "                            hub_height=hub_height, \n",
    "                            rated_power=rated_power,\n",
    "                            Cp=Cp,\n",
    "                            rotor_diameter=rotor_diameter, \n",
    "                            alpha=alpha,\n",
    "                            cut_in_speed=cut_in_speed, \n",
    "                            rated_speed=rated_speed,\n",
    "                            cut_out_speed=cut_out_speed, \n",
    "                            z_ref=z_ref)"
   ]
  },
  {
   "cell_type": "code",
   "execution_count": 26,
   "metadata": {},
   "outputs": [
    {
     "data": {
      "text/plain": [
       "<Axes: xlabel='timestamp'>"
      ]
     },
     "execution_count": 26,
     "metadata": {},
     "output_type": "execute_result"
    },
    {
     "data": {
      "image/png": "[encoded data removed]",
      "text/plain": [
       "<Figure size 640x480 with 1 Axes>"
      ]
     },
     "metadata": {},
     "output_type": "display_data"
    }
   ],
   "source": [
    "power.plot()"
   ]
  },
  {
   "cell_type": "code",
   "execution_count": null,
   "metadata": {},
   "outputs": [],
   "source": []
  }
 ],
 "metadata": {
  "kernelspec": {
   "display_name": "Python 3",
   "language": "python",
   "name": "python3"
  },
  "language_info": {
   "codemirror_mode": {
    "name": "ipython",
    "version": 3
   },
   "file_extension": ".py",
   "mimetype": "text/x-python",
   "name": "python",
   "nbconvert_exporter": "python",
   "pygments_lexer": "ipython3",
   "version": "3.10.12"
  }
 },
 "nbformat": 4,
 "nbformat_minor": 2
}
