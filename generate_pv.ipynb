{
 "cells": [
  {
   "cell_type": "markdown",
   "metadata": {},
   "source": [
    "# Generating Synthetic PV Power Time Series"
   ]
  },
  {
   "cell_type": "code",
   "execution_count": 1,
   "metadata": {},
   "outputs": [],
   "source": [
    "import os\n",
    "import yaml\n",
    "import numpy as np\n",
    "import pandas as pd\n",
    "import pvlib\n",
    "import matplotlib.pyplot as plt\n",
    "import matplotlib.dates as mdates\n",
    "\n",
    "from sklearn.impute import KNNImputer\n",
    "from sklearn.preprocessing import StandardScaler\n",
    "\n",
    "import utils, clean_data, generate_pv"
   ]
  },
  {
   "cell_type": "code",
   "execution_count": 2,
   "metadata": {},
   "outputs": [],
   "source": [
    "config_path = \"config.yaml\"\n",
    "config = utils.load_config(config_path)\n",
    "\n",
    "dir = os.path.join(config['data']['raw_dir'], 'solar')\n",
    "features = config['features']\n",
    "params = config['wind_params']\n",
    "\n",
    "pv_features, _ = clean_data.relevant_features(features=features)\n",
    "\n",
    "plot_names = ['Total', 'Direct', 'Diffuse']"
   ]
  },
  {
   "cell_type": "code",
   "execution_count": 3,
   "metadata": {},
   "outputs": [],
   "source": [
    "files = os.listdir(dir)\n",
    "file = files[0]\n",
    "\n",
    "data = pd.read_csv(os.path.join(dir, file))\n",
    "data['timestamp'] = pd.to_datetime(data['timestamp'])\n",
    "#df['timestamp'] = df['timestamp'].dt.tz_localize(\"UTC\").dt.tz_convert(\"Europe/Berlin\")\n",
    "data.set_index('timestamp', inplace=True)"
   ]
  },
  {
   "cell_type": "code",
   "execution_count": 4,
   "metadata": {},
   "outputs": [
    {
     "name": "stdout",
     "output_type": "stream",
     "text": [
      "<class 'pandas.core.frame.DataFrame'>\n",
      "DatetimeIndex: 94176 entries, 2023-07-24 00:00:00+00:00 to 2025-05-07 23:50:00+00:00\n",
      "Data columns (total 5 columns):\n",
      " #   Column          Non-Null Count  Dtype  \n",
      "---  ------          --------------  -----  \n",
      " 0   station_id      94176 non-null  int64  \n",
      " 1   ghi             94119 non-null  float64\n",
      " 2   dhi             94118 non-null  float64\n",
      " 3   temperature_2m  94176 non-null  float64\n",
      " 4   wind_speed      94115 non-null  float64\n",
      "dtypes: float64(4), int64(1)\n",
      "memory usage: 4.3 MB\n"
     ]
    }
   ],
   "source": [
    "data.info()"
   ]
  },
  {
   "cell_type": "markdown",
   "metadata": {},
   "source": [
    "### Analysis of missing values"
   ]
  },
  {
   "cell_type": "code",
   "execution_count": 5,
   "metadata": {},
   "outputs": [
    {
     "data": {
      "text/plain": [
       "station_id         0\n",
       "ghi               57\n",
       "dhi               58\n",
       "temperature_2m     0\n",
       "wind_speed        61\n",
       "dtype: int64"
      ]
     },
     "execution_count": 5,
     "metadata": {},
     "output_type": "execute_result"
    }
   ],
   "source": [
    "data.isna().sum()"
   ]
  },
  {
   "cell_type": "code",
   "execution_count": 6,
   "metadata": {},
   "outputs": [
    {
     "data": {
      "text/html": [
       "<div>\n",
       "<style scoped>\n",
       "    .dataframe tbody tr th:only-of-type {\n",
       "        vertical-align: middle;\n",
       "    }\n",
       "\n",
       "    .dataframe tbody tr th {\n",
       "        vertical-align: top;\n",
       "    }\n",
       "\n",
       "    .dataframe thead th {\n",
       "        text-align: right;\n",
       "    }\n",
       "</style>\n",
       "<table border=\"1\" class=\"dataframe\">\n",
       "  <thead>\n",
       "    <tr style=\"text-align: right;\">\n",
       "      <th></th>\n",
       "      <th>station_id</th>\n",
       "      <th>ghi</th>\n",
       "      <th>dhi</th>\n",
       "      <th>temperature_2m</th>\n",
       "      <th>wind_speed</th>\n",
       "    </tr>\n",
       "  </thead>\n",
       "  <tbody>\n",
       "    <tr>\n",
       "      <th>2023-09-07</th>\n",
       "      <td>0</td>\n",
       "      <td>0</td>\n",
       "      <td>1</td>\n",
       "      <td>0</td>\n",
       "      <td>0</td>\n",
       "    </tr>\n",
       "    <tr>\n",
       "      <th>2023-09-11</th>\n",
       "      <td>0</td>\n",
       "      <td>0</td>\n",
       "      <td>0</td>\n",
       "      <td>0</td>\n",
       "      <td>3</td>\n",
       "    </tr>\n",
       "    <tr>\n",
       "      <th>2023-09-12</th>\n",
       "      <td>0</td>\n",
       "      <td>57</td>\n",
       "      <td>57</td>\n",
       "      <td>0</td>\n",
       "      <td>58</td>\n",
       "    </tr>\n",
       "  </tbody>\n",
       "</table>\n",
       "</div>"
      ],
      "text/plain": [
       "            station_id  ghi  dhi  temperature_2m  wind_speed\n",
       "2023-09-07           0    0    1               0           0\n",
       "2023-09-11           0    0    0               0           3\n",
       "2023-09-12           0   57   57               0          58"
      ]
     },
     "execution_count": 6,
     "metadata": {},
     "output_type": "execute_result"
    }
   ],
   "source": [
    "missing_per_column_per_day = data.groupby(data.index.date).apply(lambda x: x.isna().sum())\n",
    "missing_per_column_per_day[(missing_per_column_per_day != 0).any(axis=1)]"
   ]
  },
  {
   "cell_type": "markdown",
   "metadata": {},
   "source": [
    "We can try to impute with KNNImputer\n",
    "\n",
    "To help KNNImputer estimating the temporal saisonalities we add encoded temporal features."
   ]
  },
  {
   "cell_type": "code",
   "execution_count": 7,
   "metadata": {},
   "outputs": [],
   "source": [
    "data['hour_sin'] = np.sin(2 * np.pi * data.index.hour / 24)\n",
    "data['hour_cos'] = np.cos(2 * np.pi * data.index.hour / 24)\n",
    "data['month_sin'] = np.sin(2 * np.pi * data.index.month / 12)\n",
    "data['month_cos'] = np.cos(2 * np.pi * data.index.month / 12)"
   ]
  },
  {
   "cell_type": "markdown",
   "metadata": {},
   "source": [
    "We have to determine the optimal number of neighbors in beforehand."
   ]
  },
  {
   "cell_type": "code",
   "execution_count": 8,
   "metadata": {},
   "outputs": [],
   "source": [
    "# to be done"
   ]
  },
  {
   "cell_type": "code",
   "execution_count": 9,
   "metadata": {},
   "outputs": [],
   "source": [
    "imputer = KNNImputer(n_neighbors=5)\n",
    "scaler = StandardScaler()\n",
    "df_scaled = scaler.fit_transform(data)\n",
    "df = pd.DataFrame(scaler.inverse_transform(imputer.fit_transform(df_scaled)), columns=data.columns, index=data.index)\n",
    "df.drop(['hour_sin', 'hour_cos', 'month_sin', 'month_cos'], axis=1, inplace=True)"
   ]
  },
  {
   "cell_type": "code",
   "execution_count": 10,
   "metadata": {},
   "outputs": [
    {
     "data": {
      "text/html": [
       "<div>\n",
       "<style scoped>\n",
       "    .dataframe tbody tr th:only-of-type {\n",
       "        vertical-align: middle;\n",
       "    }\n",
       "\n",
       "    .dataframe tbody tr th {\n",
       "        vertical-align: top;\n",
       "    }\n",
       "\n",
       "    .dataframe thead th {\n",
       "        text-align: right;\n",
       "    }\n",
       "</style>\n",
       "<table border=\"1\" class=\"dataframe\">\n",
       "  <thead>\n",
       "    <tr style=\"text-align: right;\">\n",
       "      <th></th>\n",
       "      <th>station_id</th>\n",
       "      <th>ghi</th>\n",
       "      <th>dhi</th>\n",
       "      <th>temperature_2m</th>\n",
       "      <th>wind_speed</th>\n",
       "    </tr>\n",
       "    <tr>\n",
       "      <th>timestamp</th>\n",
       "      <th></th>\n",
       "      <th></th>\n",
       "      <th></th>\n",
       "      <th></th>\n",
       "      <th></th>\n",
       "    </tr>\n",
       "  </thead>\n",
       "  <tbody>\n",
       "    <tr>\n",
       "      <th>2023-07-24 00:00:00+00:00</th>\n",
       "      <td>7374.0</td>\n",
       "      <td>0.0</td>\n",
       "      <td>0.0</td>\n",
       "      <td>18.0</td>\n",
       "      <td>3.6</td>\n",
       "    </tr>\n",
       "    <tr>\n",
       "      <th>2023-07-24 00:10:00+00:00</th>\n",
       "      <td>7374.0</td>\n",
       "      <td>0.0</td>\n",
       "      <td>0.0</td>\n",
       "      <td>17.9</td>\n",
       "      <td>3.9</td>\n",
       "    </tr>\n",
       "    <tr>\n",
       "      <th>2023-07-24 00:20:00+00:00</th>\n",
       "      <td>7374.0</td>\n",
       "      <td>0.0</td>\n",
       "      <td>0.0</td>\n",
       "      <td>17.9</td>\n",
       "      <td>4.1</td>\n",
       "    </tr>\n",
       "    <tr>\n",
       "      <th>2023-07-24 00:30:00+00:00</th>\n",
       "      <td>7374.0</td>\n",
       "      <td>0.0</td>\n",
       "      <td>0.0</td>\n",
       "      <td>17.8</td>\n",
       "      <td>3.4</td>\n",
       "    </tr>\n",
       "    <tr>\n",
       "      <th>2023-07-24 00:40:00+00:00</th>\n",
       "      <td>7374.0</td>\n",
       "      <td>0.0</td>\n",
       "      <td>0.0</td>\n",
       "      <td>17.9</td>\n",
       "      <td>3.4</td>\n",
       "    </tr>\n",
       "    <tr>\n",
       "      <th>...</th>\n",
       "      <td>...</td>\n",
       "      <td>...</td>\n",
       "      <td>...</td>\n",
       "      <td>...</td>\n",
       "      <td>...</td>\n",
       "    </tr>\n",
       "    <tr>\n",
       "      <th>2025-05-07 23:10:00+00:00</th>\n",
       "      <td>7374.0</td>\n",
       "      <td>0.0</td>\n",
       "      <td>0.0</td>\n",
       "      <td>10.7</td>\n",
       "      <td>2.4</td>\n",
       "    </tr>\n",
       "    <tr>\n",
       "      <th>2025-05-07 23:20:00+00:00</th>\n",
       "      <td>7374.0</td>\n",
       "      <td>0.0</td>\n",
       "      <td>0.0</td>\n",
       "      <td>10.6</td>\n",
       "      <td>2.1</td>\n",
       "    </tr>\n",
       "    <tr>\n",
       "      <th>2025-05-07 23:30:00+00:00</th>\n",
       "      <td>7374.0</td>\n",
       "      <td>0.0</td>\n",
       "      <td>0.0</td>\n",
       "      <td>10.3</td>\n",
       "      <td>2.4</td>\n",
       "    </tr>\n",
       "    <tr>\n",
       "      <th>2025-05-07 23:40:00+00:00</th>\n",
       "      <td>7374.0</td>\n",
       "      <td>0.0</td>\n",
       "      <td>0.0</td>\n",
       "      <td>10.4</td>\n",
       "      <td>2.5</td>\n",
       "    </tr>\n",
       "    <tr>\n",
       "      <th>2025-05-07 23:50:00+00:00</th>\n",
       "      <td>7374.0</td>\n",
       "      <td>0.0</td>\n",
       "      <td>0.0</td>\n",
       "      <td>10.1</td>\n",
       "      <td>2.3</td>\n",
       "    </tr>\n",
       "  </tbody>\n",
       "</table>\n",
       "<p>94176 rows × 5 columns</p>\n",
       "</div>"
      ],
      "text/plain": [
       "                           station_id  ghi  dhi  temperature_2m  wind_speed\n",
       "timestamp                                                                  \n",
       "2023-07-24 00:00:00+00:00      7374.0  0.0  0.0            18.0         3.6\n",
       "2023-07-24 00:10:00+00:00      7374.0  0.0  0.0            17.9         3.9\n",
       "2023-07-24 00:20:00+00:00      7374.0  0.0  0.0            17.9         4.1\n",
       "2023-07-24 00:30:00+00:00      7374.0  0.0  0.0            17.8         3.4\n",
       "2023-07-24 00:40:00+00:00      7374.0  0.0  0.0            17.9         3.4\n",
       "...                               ...  ...  ...             ...         ...\n",
       "2025-05-07 23:10:00+00:00      7374.0  0.0  0.0            10.7         2.4\n",
       "2025-05-07 23:20:00+00:00      7374.0  0.0  0.0            10.6         2.1\n",
       "2025-05-07 23:30:00+00:00      7374.0  0.0  0.0            10.3         2.4\n",
       "2025-05-07 23:40:00+00:00      7374.0  0.0  0.0            10.4         2.5\n",
       "2025-05-07 23:50:00+00:00      7374.0  0.0  0.0            10.1         2.3\n",
       "\n",
       "[94176 rows x 5 columns]"
      ]
     },
     "execution_count": 10,
     "metadata": {},
     "output_type": "execute_result"
    }
   ],
   "source": [
    "df"
   ]
  },
  {
   "cell_type": "code",
   "execution_count": 11,
   "metadata": {},
   "outputs": [],
   "source": [
    "def plot_power_and_features(day: str,\n",
    "                            plot_names: list,\n",
    "                            features: list,\n",
    "                            power: pd.Series,\n",
    "                            synchronize_axes=True,\n",
    "                            save_fig=False\n",
    "                            ):\n",
    "\n",
    "    day = pd.Timestamp(day)\n",
    "    index_0 = power.index.get_loc(day)\n",
    "    index_1 = power.index.get_loc(day + pd.Timedelta(days=1))\n",
    "    date = str(features[0].index[index_0:index_1][0].date())\n",
    "\n",
    "    fig, ax1 = plt.subplots(figsize=(10, 6))\n",
    "    fontsize = 14\n",
    "    lines = []\n",
    "    title_suffix = ''\n",
    "\n",
    "    # plot power\n",
    "    line1, = ax1.plot(\n",
    "    power[index_0:index_1],\n",
    "    label=\"Power Output (W)\",\n",
    "    color=\"black\",\n",
    "    linewidth=2.0\n",
    "    )\n",
    "    lines.append(line1)\n",
    "\n",
    "    # configure secondary y-axis\n",
    "    ax1.set_xlabel(\"Time\", fontsize=fontsize)\n",
    "    ax1.set_ylabel(\"Power Output (W)\", fontsize=fontsize)\n",
    "    ax1.tick_features(axis='y', labelsize=fontsize)\n",
    "    ax1.tick_features(axis='x', labelsize=fontsize-2)\n",
    "\n",
    "    ax2 = ax1.twinx()\n",
    "    # plot irradiance components\n",
    "    for name, series in zip(plot_names, features):\n",
    "        line, = ax2.plot(\n",
    "            series[index_0:index_1],\n",
    "            label=f\"{name} (W/m$^2$)\",\n",
    "            linestyle='--',\n",
    "            linewidth=2.0\n",
    "        )\n",
    "        lines.append(line)\n",
    "\n",
    "    # configure primary y-axis\n",
    "    ax2.set_ylabel(\"Energy flux density (W/m$^2$)\", fontsize=fontsize)\n",
    "    ax2.tick_features(axis='y', labelsize=fontsize)\n",
    "\n",
    "    # Format x-axis to show only hours (HH)\n",
    "    ax1.xaxis.set_major_locator(mdates.HourLocator(interval=1))\n",
    "    ax1.xaxis.set_major_formatter(mdates.DateFormatter('%H'))\n",
    "    ticks = ax1.get_xticks()\n",
    "    ax1.set_xticks(ticks[1:-1])\n",
    "\n",
    "\n",
    "    # Synchronize y-axes\n",
    "    if synchronize_axes:\n",
    "        title_suffix = '(synched axes)'\n",
    "        all_ghi_min = min([series[index_0:index_1].min() for series in features])\n",
    "        all_ghi_max = max([series[index_0:index_1].max() for series in features])\n",
    "        y_min = min(all_ghi_min, power[index_0:index_1].min())\n",
    "        y_max = max(all_ghi_max, power[index_0:index_1].max())\n",
    "        ax1.set_ylim(y_min, y_max)\n",
    "        ax2.set_ylim(y_min, y_max)\n",
    "\n",
    "    # legend\n",
    "    lines.append(lines.pop(0))\n",
    "    labels = [line.get_label() for line in lines]\n",
    "    ax1.legend(lines, labels, loc=\"upper left\", fontsize=fontsize)\n",
    "\n",
    "    plt.title(f\"Irradiance and Power Output on {date} {title_suffix}\", fontsize=fontsize)\n",
    "    fig.tight_layout()\n",
    "    #plt.grid(True)\n",
    "    if save_fig:\n",
    "        save_path = 'figs/PV'\n",
    "        os.makedirs(save_path, exist_ok=True)\n",
    "        save_file = os.path.join(save_path, f'{date}.png')\n",
    "        plt.savefig(save_file, dpi=300)\n",
    "        plt.close()\n",
    "    else:\n",
    "        plt.show()"
   ]
  },
  {
   "cell_type": "code",
   "execution_count": 12,
   "metadata": {},
   "outputs": [
    {
     "ename": "KeyError",
     "evalue": "'latitude'",
     "output_type": "error",
     "traceback": [
      "\u001b[0;31m---------------------------------------------------------------------------\u001b[0m",
      "\u001b[0;31mKeyError\u001b[0m                                  Traceback (most recent call last)",
      "File \u001b[0;32m/usr/lib/python3/dist-packages/pandas/core/indexes/base.py:3791\u001b[0m, in \u001b[0;36mIndex.get_loc\u001b[0;34m(self, key)\u001b[0m\n\u001b[1;32m   3790\u001b[0m \u001b[38;5;28;01mtry\u001b[39;00m:\n\u001b[0;32m-> 3791\u001b[0m     \u001b[38;5;28;01mreturn\u001b[39;00m \u001b[38;5;28;43mself\u001b[39;49m\u001b[38;5;241;43m.\u001b[39;49m\u001b[43m_engine\u001b[49m\u001b[38;5;241;43m.\u001b[39;49m\u001b[43mget_loc\u001b[49m\u001b[43m(\u001b[49m\u001b[43mcasted_key\u001b[49m\u001b[43m)\u001b[49m\n\u001b[1;32m   3792\u001b[0m \u001b[38;5;28;01mexcept\u001b[39;00m \u001b[38;5;167;01mKeyError\u001b[39;00m \u001b[38;5;28;01mas\u001b[39;00m err:\n",
      "File \u001b[0;32m/usr/lib/python3/dist-packages/pandas/_libs/index.pyx:152\u001b[0m, in \u001b[0;36mpandas._libs.index.IndexEngine.get_loc\u001b[0;34m()\u001b[0m\n",
      "File \u001b[0;32m/usr/lib/python3/dist-packages/pandas/_libs/index.pyx:181\u001b[0m, in \u001b[0;36mpandas._libs.index.IndexEngine.get_loc\u001b[0;34m()\u001b[0m\n",
      "File \u001b[0;32mpandas/_libs/hashtable_class_helper.pxi:7080\u001b[0m, in \u001b[0;36mpandas._libs.hashtable.PyObjectHashTable.get_item\u001b[0;34m()\u001b[0m\n",
      "File \u001b[0;32mpandas/_libs/hashtable_class_helper.pxi:7088\u001b[0m, in \u001b[0;36mpandas._libs.hashtable.PyObjectHashTable.get_item\u001b[0;34m()\u001b[0m\n",
      "\u001b[0;31mKeyError\u001b[0m: 'latitude'",
      "\nThe above exception was the direct cause of the following exception:\n",
      "\u001b[0;31mKeyError\u001b[0m                                  Traceback (most recent call last)",
      "Cell \u001b[0;32mIn[12], line 1\u001b[0m\n\u001b[0;32m----> 1\u001b[0m total_irradiance, cell_temperature \u001b[38;5;241m=\u001b[39m \u001b[43mgenerate_pv\u001b[49m\u001b[38;5;241;43m.\u001b[39;49m\u001b[43mget_features\u001b[49m\u001b[43m(\u001b[49m\u001b[43mdata\u001b[49m\u001b[38;5;241;43m=\u001b[39;49m\u001b[43mdf\u001b[49m\u001b[43m,\u001b[49m\n\u001b[1;32m      2\u001b[0m \u001b[43m                                                  \u001b[49m\u001b[43mfeatures\u001b[49m\u001b[38;5;241;43m=\u001b[39;49m\u001b[43mfeatures\u001b[49m\u001b[43m,\u001b[49m\n\u001b[1;32m      3\u001b[0m \u001b[43m                                                  \u001b[49m\u001b[43mparams\u001b[49m\u001b[38;5;241;43m=\u001b[39;49m\u001b[43mparams\u001b[49m\u001b[43m)\u001b[49m\n\u001b[1;32m      4\u001b[0m total \u001b[38;5;241m=\u001b[39m total_irradiance[\u001b[38;5;124m'\u001b[39m\u001b[38;5;124mpoa_global\u001b[39m\u001b[38;5;124m'\u001b[39m]\n\u001b[1;32m      5\u001b[0m direct \u001b[38;5;241m=\u001b[39m total_irradiance[\u001b[38;5;124m'\u001b[39m\u001b[38;5;124mpoa_direct\u001b[39m\u001b[38;5;124m'\u001b[39m]\n",
      "File \u001b[0;32m~/Work/synthetic_re_data_generation/generate_pv.py:46\u001b[0m, in \u001b[0;36mget_features\u001b[0;34m(data, features, params)\u001b[0m\n\u001b[1;32m     44\u001b[0m temperature \u001b[38;5;241m=\u001b[39m data[features[\u001b[38;5;124m'\u001b[39m\u001b[38;5;124mtemperature\u001b[39m\u001b[38;5;124m'\u001b[39m][\u001b[38;5;124m'\u001b[39m\u001b[38;5;124mname\u001b[39m\u001b[38;5;124m'\u001b[39m]]\n\u001b[1;32m     45\u001b[0m wind_speed \u001b[38;5;241m=\u001b[39m data[features[\u001b[38;5;124m'\u001b[39m\u001b[38;5;124mwind_speed\u001b[39m\u001b[38;5;124m'\u001b[39m][\u001b[38;5;124m'\u001b[39m\u001b[38;5;124mname\u001b[39m\u001b[38;5;124m'\u001b[39m]]\n\u001b[0;32m---> 46\u001b[0m latitude \u001b[38;5;241m=\u001b[39m \u001b[43mdata\u001b[49m\u001b[43m[\u001b[49m\u001b[43mfeatures\u001b[49m\u001b[43m[\u001b[49m\u001b[38;5;124;43m'\u001b[39;49m\u001b[38;5;124;43mlatitude\u001b[39;49m\u001b[38;5;124;43m'\u001b[39;49m\u001b[43m]\u001b[49m\u001b[43m[\u001b[49m\u001b[38;5;124;43m'\u001b[39;49m\u001b[38;5;124;43mname\u001b[39;49m\u001b[38;5;124;43m'\u001b[39;49m\u001b[43m]\u001b[49m\u001b[43m]\u001b[49m\n\u001b[1;32m     47\u001b[0m longitude \u001b[38;5;241m=\u001b[39m data[features[\u001b[38;5;124m'\u001b[39m\u001b[38;5;124mlongitude\u001b[39m\u001b[38;5;124m'\u001b[39m][\u001b[38;5;124m'\u001b[39m\u001b[38;5;124mname\u001b[39m\u001b[38;5;124m'\u001b[39m]]\n\u001b[1;32m     48\u001b[0m elevation \u001b[38;5;241m=\u001b[39m data[features[\u001b[38;5;124m'\u001b[39m\u001b[38;5;124melevation\u001b[39m\u001b[38;5;124m'\u001b[39m][\u001b[38;5;124m'\u001b[39m\u001b[38;5;124mname\u001b[39m\u001b[38;5;124m'\u001b[39m]]\n",
      "File \u001b[0;32m/usr/lib/python3/dist-packages/pandas/core/frame.py:3893\u001b[0m, in \u001b[0;36mDataFrame.__getitem__\u001b[0;34m(self, key)\u001b[0m\n\u001b[1;32m   3891\u001b[0m \u001b[38;5;28;01mif\u001b[39;00m \u001b[38;5;28mself\u001b[39m\u001b[38;5;241m.\u001b[39mcolumns\u001b[38;5;241m.\u001b[39mnlevels \u001b[38;5;241m>\u001b[39m \u001b[38;5;241m1\u001b[39m:\n\u001b[1;32m   3892\u001b[0m     \u001b[38;5;28;01mreturn\u001b[39;00m \u001b[38;5;28mself\u001b[39m\u001b[38;5;241m.\u001b[39m_getitem_multilevel(key)\n\u001b[0;32m-> 3893\u001b[0m indexer \u001b[38;5;241m=\u001b[39m \u001b[38;5;28;43mself\u001b[39;49m\u001b[38;5;241;43m.\u001b[39;49m\u001b[43mcolumns\u001b[49m\u001b[38;5;241;43m.\u001b[39;49m\u001b[43mget_loc\u001b[49m\u001b[43m(\u001b[49m\u001b[43mkey\u001b[49m\u001b[43m)\u001b[49m\n\u001b[1;32m   3894\u001b[0m \u001b[38;5;28;01mif\u001b[39;00m is_integer(indexer):\n\u001b[1;32m   3895\u001b[0m     indexer \u001b[38;5;241m=\u001b[39m [indexer]\n",
      "File \u001b[0;32m/usr/lib/python3/dist-packages/pandas/core/indexes/base.py:3798\u001b[0m, in \u001b[0;36mIndex.get_loc\u001b[0;34m(self, key)\u001b[0m\n\u001b[1;32m   3793\u001b[0m     \u001b[38;5;28;01mif\u001b[39;00m \u001b[38;5;28misinstance\u001b[39m(casted_key, \u001b[38;5;28mslice\u001b[39m) \u001b[38;5;129;01mor\u001b[39;00m (\n\u001b[1;32m   3794\u001b[0m         \u001b[38;5;28misinstance\u001b[39m(casted_key, abc\u001b[38;5;241m.\u001b[39mIterable)\n\u001b[1;32m   3795\u001b[0m         \u001b[38;5;129;01mand\u001b[39;00m \u001b[38;5;28many\u001b[39m(\u001b[38;5;28misinstance\u001b[39m(x, \u001b[38;5;28mslice\u001b[39m) \u001b[38;5;28;01mfor\u001b[39;00m x \u001b[38;5;129;01min\u001b[39;00m casted_key)\n\u001b[1;32m   3796\u001b[0m     ):\n\u001b[1;32m   3797\u001b[0m         \u001b[38;5;28;01mraise\u001b[39;00m InvalidIndexError(key)\n\u001b[0;32m-> 3798\u001b[0m     \u001b[38;5;28;01mraise\u001b[39;00m \u001b[38;5;167;01mKeyError\u001b[39;00m(key) \u001b[38;5;28;01mfrom\u001b[39;00m \u001b[38;5;21;01merr\u001b[39;00m\n\u001b[1;32m   3799\u001b[0m \u001b[38;5;28;01mexcept\u001b[39;00m \u001b[38;5;167;01mTypeError\u001b[39;00m:\n\u001b[1;32m   3800\u001b[0m     \u001b[38;5;66;03m# If we have a listlike key, _check_indexing_error will raise\u001b[39;00m\n\u001b[1;32m   3801\u001b[0m     \u001b[38;5;66;03m#  InvalidIndexError. Otherwise we fall through and re-raise\u001b[39;00m\n\u001b[1;32m   3802\u001b[0m     \u001b[38;5;66;03m#  the TypeError.\u001b[39;00m\n\u001b[1;32m   3803\u001b[0m     \u001b[38;5;28mself\u001b[39m\u001b[38;5;241m.\u001b[39m_check_indexing_error(key)\n",
      "\u001b[0;31mKeyError\u001b[0m: 'latitude'"
     ]
    }
   ],
   "source": [
    "total_irradiance, cell_temperature = generate_pv.get_features(data=df,\n",
    "                                                  features=features,\n",
    "                                                  params=params)\n",
    "total = total_irradiance['poa_global']\n",
    "direct = total_irradiance['poa_direct']\n",
    "diffuse = total_irradiance['poa_diffuse']\n",
    "#sky_dhi = total_irradiance['poa_sky_diffuse']\n",
    "#ground_dhi = total_irradiance['poa_ground_diffuse']\n",
    "features = [total, direct, diffuse]\n",
    "\n",
    "power = generate_pv.generate_pv_power(total_irradiance=total,\n",
    "                          cell_temperature=cell_temperature,\n",
    "                          params=params)"
   ]
  },
  {
   "cell_type": "code",
   "execution_count": 58,
   "metadata": {},
   "outputs": [],
   "source": [
    "day = '2023-06-04'\n",
    "\n",
    "plot_power_and_features(day=day,\n",
    "                        plot_names=plot_names,\n",
    "                        features=features,\n",
    "                        power=power,\n",
    "                        synchronize_axes=True,\n",
    "                        save_fig=True)\n",
    "\n",
    "plot_power_and_features(day=day,\n",
    "                        plot_names=plot_names,\n",
    "                        features=features,\n",
    "                        power=power,\n",
    "                        synchronize_axes=False,\n",
    "                        save_fig=True)"
   ]
  },
  {
   "cell_type": "code",
   "execution_count": null,
   "metadata": {},
   "outputs": [],
   "source": [
    "for day in np.unique(df.index.date):\n",
    "    plot_power_and_features(day=str(day),\n",
    "                            plot_names=plot_names,\n",
    "                            features=features,\n",
    "                            power=power,\n",
    "                            synchronize_axes=False,\n",
    "                            save_fig=True)"
   ]
  }
 ],
 "metadata": {
  "kernelspec": {
   "display_name": "synthre",
   "language": "python",
   "name": "python3"
  },
  "language_info": {
   "codemirror_mode": {
    "name": "ipython",
    "version": 3
   },
   "file_extension": ".py",
   "mimetype": "text/x-python",
   "name": "python",
   "nbconvert_exporter": "python",
   "pygments_lexer": "ipython3",
   "version": "3.12.3"
  }
 },
 "nbformat": 4,
 "nbformat_minor": 2
}
