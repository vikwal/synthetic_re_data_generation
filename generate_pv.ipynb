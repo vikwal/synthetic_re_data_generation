{
 "cells": [
  {
   "cell_type": "markdown",
   "metadata": {},
   "source": [
    "# Generating Synthetic PV Power Time Series"
   ]
  },
  {
   "cell_type": "code",
   "execution_count": 1,
   "metadata": {},
   "outputs": [],
   "source": [
    "import os\n",
    "import yaml\n",
    "import numpy as np\n",
    "import pandas as pd\n",
    "import pvlib\n",
    "import matplotlib.pyplot as plt\n",
    "import matplotlib.dates as mdates\n",
    "\n",
    "from sklearn.impute import KNNImputer\n",
    "from sklearn.preprocessing import StandardScaler"
   ]
  },
  {
   "cell_type": "code",
   "execution_count": 2,
   "metadata": {},
   "outputs": [],
   "source": [
    "def load_config(config_path):\n",
    "    with open(config_path, \"r\") as file:\n",
    "        return yaml.safe_load(file)"
   ]
  },
  {
   "cell_type": "code",
   "execution_count": 47,
   "metadata": {},
   "outputs": [],
   "source": [
    "config_path = \"config.yaml\"\n",
    "config = load_config(config_path)\n",
    "\n",
    "dir = config['data']['final_data']\n",
    "params = config['synth']\n",
    "adj_params = config['adjustable_pv_params']\n",
    "\n",
    "plot_names = ['Total', 'Direct', 'Diffuse']"
   ]
  },
  {
   "cell_type": "code",
   "execution_count": 49,
   "metadata": {},
   "outputs": [],
   "source": [
    "files = os.listdir(dir)\n",
    "file = files[0]\n",
    "\n",
    "data = pd.read_csv(os.path.join(dir, file))\n",
    "data['timestamp'] = pd.to_datetime(data['timestamp'])\n",
    "#df['timestamp'] = df['timestamp'].dt.tz_localize(\"UTC\").dt.tz_convert(\"Europe/Berlin\")\n",
    "data.set_index('timestamp', inplace=True)"
   ]
  },
  {
   "cell_type": "code",
   "execution_count": 50,
   "metadata": {},
   "outputs": [
    {
     "name": "stdout",
     "output_type": "stream",
     "text": [
      "<class 'pandas.core.frame.DataFrame'>\n",
      "DatetimeIndex: 79200 entries, 2023-05-26 00:00:00 to 2024-11-25 23:50:00\n",
      "Data columns (total 15 columns):\n",
      " #   Column         Non-Null Count  Dtype  \n",
      "---  ------         --------------  -----  \n",
      " 0   STATIONS_ID    79200 non-null  int64  \n",
      " 1   PP_10          79200 non-null  float64\n",
      " 2   TT_10          79200 non-null  float64\n",
      " 3   TM5_10         79200 non-null  float64\n",
      " 4   RF_10          79200 non-null  float64\n",
      " 5   TD_10          79200 non-null  float64\n",
      " 6   FF_10          79200 non-null  float64\n",
      " 7   DD_10          79200 non-null  int64  \n",
      " 8   DS_10          79200 non-null  float64\n",
      " 9   GS_10          79200 non-null  float64\n",
      " 10  SD_10          79200 non-null  float64\n",
      " 11  LS_10          79200 non-null  int64  \n",
      " 12  Stationshoehe  79200 non-null  float64\n",
      " 13  geoBreite      79200 non-null  float64\n",
      " 14  geoLaenge      79200 non-null  float64\n",
      "dtypes: float64(12), int64(3)\n",
      "memory usage: 9.7 MB\n"
     ]
    }
   ],
   "source": [
    "data.info()"
   ]
  },
  {
   "cell_type": "code",
   "execution_count": null,
   "metadata": {},
   "outputs": [],
   "source": [
    "irrelevant_features = ['STATIONS_ID', 'Stationshoehe', 'geoBreite', 'geoLaenge']\n",
    "\n",
    "stations_id = data[irrelevant_features[0]].iloc[0]\n",
    "stations_height = data[irrelevant_features[1]].iloc[0]\n",
    "latitude = data[irrelevant_features[2]].iloc[0]\n",
    "longitude = data[irrelevant_features[3]].iloc[0]\n",
    "\n",
    "data.drop(irrelevant_features, axis=1, inplace=True)"
   ]
  },
  {
   "cell_type": "markdown",
   "metadata": {},
   "source": [
    "### Analysis of missing values"
   ]
  },
  {
   "cell_type": "code",
   "execution_count": null,
   "metadata": {},
   "outputs": [],
   "source": [
    "data.isna().sum()"
   ]
  },
  {
   "cell_type": "code",
   "execution_count": null,
   "metadata": {},
   "outputs": [],
   "source": [
    "missing_per_column_per_day = data.groupby(data.index.date).apply(lambda x: x.isna().sum())\n",
    "missing_per_column_per_day[(missing_per_column_per_day != 0).any(axis=1)].drop(['STATIONS_ID', 'Stationshoehe', 'geoBreite', 'geoLaenge'], axis=1)"
   ]
  },
  {
   "cell_type": "markdown",
   "metadata": {},
   "source": [
    "We can try to impute with KNNImputer\n",
    "\n",
    "To help KNNImputer estimating the temporal saisonalities we add encoded temporal features."
   ]
  },
  {
   "cell_type": "code",
   "execution_count": null,
   "metadata": {},
   "outputs": [],
   "source": [
    "data['hour_sin'] = np.sin(2 * np.pi * data.index.hour / 24)\n",
    "data['hour_cos'] = np.cos(2 * np.pi * data.index.hour / 24)\n",
    "data['month_sin'] = np.sin(2 * np.pi * data.index.month / 12)\n",
    "data['month_cos'] = np.cos(2 * np.pi * data.index.month / 12)"
   ]
  },
  {
   "cell_type": "markdown",
   "metadata": {},
   "source": [
    "We have to determine the optimal number of neighbors in beforehand."
   ]
  },
  {
   "cell_type": "code",
   "execution_count": null,
   "metadata": {},
   "outputs": [],
   "source": [
    "# to be done"
   ]
  },
  {
   "cell_type": "code",
   "execution_count": null,
   "metadata": {},
   "outputs": [],
   "source": [
    "imputer = KNNImputer(n_neighbors=5)\n",
    "scaler = StandardScaler()\n",
    "df_scaled = scaler.fit_transform(data)\n",
    "df = pd.DataFrame(scaler.inverse_transform(imputer.fit_transform(df_scaled)), columns=data.columns, index=data.index)\n",
    "df.drop(['hour_sin', 'hour_cos', 'month_sin', 'month_cos'], axis=1, inplace=True)"
   ]
  },
  {
   "cell_type": "code",
   "execution_count": null,
   "metadata": {},
   "outputs": [],
   "source": [
    "df"
   ]
  },
  {
   "cell_type": "code",
   "execution_count": 60,
   "metadata": {},
   "outputs": [],
   "source": [
    "def get_features(data: pd.DataFrame, \n",
    "                 params: dict,\n",
    "                 adj_params: dict\n",
    "                ):\n",
    "    # calculate pressure\n",
    "    #pressure = pvlib.atmosphere.alt2pres(elevation)\n",
    "    dhi = data[params['dhi']['param']]\n",
    "    ghi = data[params['ghi']['param']]\n",
    "    pressure = data[params['pressure']['param']]\n",
    "    temperature = data[params['temperature']['param']]\n",
    "    v_wind = data[params['v_wind']['param']]\n",
    "    latitude = data[params['latitude']['param']]\n",
    "    longitude = data[params['longitude']['param']]\n",
    "    elevation = data[params['elevation']['param']]\n",
    "    \n",
    "    surface_tilt = adj_params['surface_tilt']\n",
    "    surface_azimuth = adj_params['surface_azimuth']\n",
    "    albedo = adj_params['albedo']\n",
    "    \n",
    "    # get solar position\n",
    "    solpos = pvlib.solarposition.get_solarposition(\n",
    "        time=data.index,\n",
    "        latitude=latitude,\n",
    "        longitude=longitude,\n",
    "        altitude=elevation,\n",
    "        temperature=temperature,\n",
    "        pressure=pressure,\n",
    "    )\n",
    "    solar_zenith = solpos['zenith']\n",
    "    solar_azimuth = solpos['azimuth']\n",
    "    \n",
    "    # GHI and DHI in W/m^2 --> J / cm^2 = J / 0,0001 m^2 = 10000 J / m^2 --> Dividing by 600 seconds (DWD is giving GHI as sum of 10 minutes))\n",
    "    dhi = data[params['dhi']['param']] * 1e4 / 600\n",
    "    ghi = data[params['ghi']['param']] * 1e4 / 600\n",
    "    \n",
    "    # get dni from ghi, dni and zenith\n",
    "    dni = pvlib.irradiance.dni(ghi=ghi,\n",
    "                               dhi=dhi,\n",
    "                               zenith=solar_zenith)\n",
    "    \n",
    "    # get total irradiance\n",
    "    total_irradiance = pvlib.irradiance.get_total_irradiance(\n",
    "        surface_tilt=surface_tilt,\n",
    "        surface_azimuth=surface_azimuth,\n",
    "        solar_zenith=solar_zenith,\n",
    "        solar_azimuth=solar_azimuth,\n",
    "        dni=dni,\n",
    "        ghi=ghi,\n",
    "        dhi=dhi,\n",
    "        dni_extra=pvlib.irradiance.get_extra_radiation(data.index),\n",
    "        albedo=albedo,\n",
    "        model='haydavies',\n",
    "    )\n",
    "    \n",
    "    cell_temperature = pvlib.temperature.faiman(total_irradiance['poa_global'], \n",
    "                                                temperature,\n",
    "                                                v_wind, \n",
    "                                                u0=25.0, \n",
    "                                                u1=6.84)\n",
    "    \n",
    "    return total_irradiance, cell_temperature\n",
    "\n",
    "\n",
    "def generate_pv_power(total_irradiance: pd.Series,\n",
    "                      cell_temperature: pd.Series,\n",
    "                      adj_params: dict                      \n",
    "                      ) -> pd.Series:\n",
    "    \n",
    "    installed_power = adj_params['installed_power']\n",
    "    gamma_pdc = adj_params['gamma_pdc']\n",
    "    eta_env_nom = adj_params['eta_env_nom']\n",
    "    eta_env_ref = adj_params['eta_env_ref']\n",
    "    \n",
    "    power_dc = pvlib.pvsystem.pvwatts_dc(total_irradiance, \n",
    "                                         cell_temperature, \n",
    "                                         installed_power,\n",
    "                                         gamma_pdc=gamma_pdc, \n",
    "                                         temp_ref=25.0)\n",
    "    \n",
    "    return pvlib.inverter.pvwatts(power_dc, \n",
    "                                  installed_power, \n",
    "                                  eta_inv_nom=eta_env_nom, \n",
    "                                  eta_inv_ref=eta_env_ref)\n",
    "    \n",
    "    \n",
    "def plot_power_and_features(day: str, \n",
    "                            plot_names: list,\n",
    "                            features: list,\n",
    "                            power: pd.Series,\n",
    "                            synchronize_axes=True,\n",
    "                            save_fig=False\n",
    "                            ): \n",
    "\n",
    "    day = pd.Timestamp(day)\n",
    "    index_0 = power.index.get_loc(day)\n",
    "    index_1 = power.index.get_loc(day + pd.Timedelta(days=1))\n",
    "    date = str(features[0].index[index_0:index_1][0].date())\n",
    "\n",
    "    fig, ax1 = plt.subplots(figsize=(10, 6))\n",
    "    fontsize = 14\n",
    "    lines = []\n",
    "    title_suffix = ''\n",
    "    \n",
    "    # plot power\n",
    "    line1, = ax1.plot(\n",
    "    power[index_0:index_1],\n",
    "    label=\"Power Output (W)\",\n",
    "    color=\"black\",\n",
    "    linewidth=2.0\n",
    "    )\n",
    "    lines.append(line1)\n",
    "\n",
    "    # configure secondary y-axis\n",
    "    ax1.set_xlabel(\"Time\", fontsize=fontsize)\n",
    "    ax1.set_ylabel(\"Power Output (W)\", fontsize=fontsize)\n",
    "    ax1.tick_params(axis='y', labelsize=fontsize)\n",
    "    ax1.tick_params(axis='x', labelsize=fontsize-2)\n",
    "    \n",
    "    ax2 = ax1.twinx()\n",
    "    # plot irradiance components\n",
    "    for name, series in zip(plot_names, features):\n",
    "        line, = ax2.plot(\n",
    "            series[index_0:index_1],\n",
    "            label=f\"{name} (W/m$^2$)\",\n",
    "            linestyle='--',\n",
    "            linewidth=2.0\n",
    "        )\n",
    "        lines.append(line)\n",
    "\n",
    "    # configure primary y-axis\n",
    "    ax2.set_ylabel(\"Energy flux density (W/m$^2$)\", fontsize=fontsize)\n",
    "    ax2.tick_params(axis='y', labelsize=fontsize)\n",
    "\n",
    "    # Format x-axis to show only hours (HH)\n",
    "    ax1.xaxis.set_major_locator(mdates.HourLocator(interval=1)) \n",
    "    ax1.xaxis.set_major_formatter(mdates.DateFormatter('%H'))\n",
    "    ticks = ax1.get_xticks()\n",
    "    ax1.set_xticks(ticks[1:-1])\n",
    "\n",
    "\n",
    "    # Synchronize y-axes\n",
    "    if synchronize_axes:\n",
    "        title_suffix = '(synched axes)'\n",
    "        all_ghi_min = min([series[index_0:index_1].min() for series in features])\n",
    "        all_ghi_max = max([series[index_0:index_1].max() for series in features])\n",
    "        y_min = min(all_ghi_min, power[index_0:index_1].min())\n",
    "        y_max = max(all_ghi_max, power[index_0:index_1].max())\n",
    "        ax1.set_ylim(y_min, y_max)\n",
    "        ax2.set_ylim(y_min, y_max)\n",
    "\n",
    "    # legend\n",
    "    lines.append(lines.pop(0))\n",
    "    labels = [line.get_label() for line in lines]\n",
    "    ax1.legend(lines, labels, loc=\"upper left\", fontsize=fontsize)\n",
    "\n",
    "    plt.title(f\"Irradiance and Power Output on {date} {title_suffix}\", fontsize=fontsize)\n",
    "    fig.tight_layout()\n",
    "    #plt.grid(True)\n",
    "    if save_fig:\n",
    "        save_path = 'figs/PV'\n",
    "        os.makedirs(save_path, exist_ok=True)\n",
    "        save_file = os.path.join(save_path, f'{date}.png')\n",
    "        plt.savefig(save_file, dpi=300)\n",
    "        plt.close()        \n",
    "    else:\n",
    "        plt.show()"
   ]
  },
  {
   "cell_type": "code",
   "execution_count": 35,
   "metadata": {},
   "outputs": [],
   "source": [
    "total_irradiance, cell_temperature = get_features(data=df,\n",
    "                                                  params=params,\n",
    "                                                  adj_params=adj_params)\n",
    "total = total_irradiance['poa_global']\n",
    "direct = total_irradiance['poa_direct']\n",
    "diffuse = total_irradiance['poa_diffuse']\n",
    "#sky_dhi = total_irradiance['poa_sky_diffuse']\n",
    "#ground_dhi = total_irradiance['poa_ground_diffuse']\n",
    "features = [total, direct, diffuse]\n",
    "\n",
    "power = generate_pv_power(total_irradiance=total,\n",
    "                          cell_temperature=cell_temperature,\n",
    "                          adj_params=adj_params)"
   ]
  },
  {
   "cell_type": "code",
   "execution_count": 58,
   "metadata": {},
   "outputs": [],
   "source": [
    "day = '2023-06-04'\n",
    "\n",
    "plot_power_and_features(day=day,\n",
    "                        plot_names=plot_names,\n",
    "                        features=features,\n",
    "                        power=power,\n",
    "                        synchronize_axes=True,\n",
    "                        save_fig=True)\n",
    "\n",
    "plot_power_and_features(day=day,\n",
    "                        plot_names=plot_names,\n",
    "                        features=features,\n",
    "                        power=power,\n",
    "                        synchronize_axes=False,\n",
    "                        save_fig=True)"
   ]
  },
  {
   "cell_type": "code",
   "execution_count": null,
   "metadata": {},
   "outputs": [],
   "source": [
    "for day in np.unique(df.index.date):\n",
    "    plot_power_and_features(day=str(day),\n",
    "                            plot_names=plot_names,\n",
    "                            features=features,\n",
    "                            power=power,\n",
    "                            synchronize_axes=False,\n",
    "                            save_fig=True) "
   ]
  }
 ],
 "metadata": {
  "kernelspec": {
   "display_name": "synthre",
   "language": "python",
   "name": "synthre"
  },
  "language_info": {
   "codemirror_mode": {
    "name": "ipython",
    "version": 3
   },
   "file_extension": ".py",
   "mimetype": "text/x-python",
   "name": "python",
   "nbconvert_exporter": "python",
   "pygments_lexer": "ipython3",
   "version": "3.10.12"
  }
 },
 "nbformat": 4,
 "nbformat_minor": 2
}
