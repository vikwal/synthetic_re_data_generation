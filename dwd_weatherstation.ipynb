{
 "cells": [
  {
   "cell_type": "markdown",
   "metadata": {},
   "source": [
    "# DWD Weather Station Data\n",
    "https://opendata.dwd.de/climate_environment/CDC/observations_germany/climate/10_minutes/"
   ]
  },
  {
   "cell_type": "code",
   "execution_count": 79,
   "metadata": {},
   "outputs": [],
   "source": [
    "import os\n",
    "import re\n",
    "import pandas as pd\n",
    "import geopandas as gpd\n",
    "import numpy as np\n",
    "import matplotlib.pyplot as plt\n",
    "from datetime import datetime\n",
    "from collections import defaultdict\n",
    "from itertools import combinations\n",
    "from shapely.geometry import Point"
   ]
  },
  {
   "cell_type": "markdown",
   "metadata": {},
   "source": [
    "<b>Weather Stations in Germany for:</b></br></br>\n",
    "relative humidity (%)</br>\n",
    "air pressure at station level (hPa)</br>\n",
    "air temperature near ground (°C)</br>\n",
    "air temperature at 2 m (°C)</br>\n",
    "dew point temperature (°C)</br>\n",
    "\n",
    "diffuse radiation (J/cm<sup>2</sup>)</br>\n",
    "global radiation (J/cm<sup>2</sup>)</br>\n",
    "sunshine duration (hours)</br>\n",
    "\n",
    "wind direction (degree)</br>\n",
    "wind velocity (m/s)"
   ]
  },
  {
   "cell_type": "code",
   "execution_count": 110,
   "metadata": {},
   "outputs": [],
   "source": [
    "directory = 'data'\n",
    "target_dir = 'data/final'\n",
    "to_date = '2024-11-25'\n",
    "from_date = '2023-08-01'\n",
    "\n",
    "column_names = [\n",
    "    \"Stations_id\", \"von_datum\", \"bis_datum\", \"Stationshoehe\",\n",
    "    \"geoBreite\", \"geoLaenge\", \"Stationsname\", \"Bundesland\", \"Abgabe\"\n",
    "]\n",
    "\n",
    "# get all station files\n",
    "station_files = []\n",
    "for root, dirs, files in os.walk(directory):\n",
    "    for file in files:\n",
    "        if 'Stationen' in file:\n",
    "            station_files.append(os.path.join(root, file))\n",
    "\n",
    "# read all station files\n",
    "stations = None\n",
    "for station in station_files:\n",
    "    df_station = pd.read_fwf(station, \n",
    "                             encoding='latin1',\n",
    "                             skiprows=2,\n",
    "                             names=column_names)\n",
    "    df_station['von_datum'] = pd.to_datetime(df_station['von_datum'], format='%Y%m%d')\n",
    "    df_station['bis_datum'] = pd.to_datetime(df_station['bis_datum'], format='%Y%m%d')\n",
    "    df_station.drop(['Abgabe'], axis=1, inplace=True)\n",
    "    table_name = station.split('/')[1]\n",
    "    df_station['Table'] = table_name\n",
    "    if station != None:\n",
    "        stations = pd.concat([stations, df_station], ignore_index=True)\n",
    "    else:\n",
    "        stations = df_station.copy()"
   ]
  },
  {
   "cell_type": "code",
   "execution_count": 3,
   "metadata": {},
   "outputs": [
    {
     "name": "stdout",
     "output_type": "stream",
     "text": [
      "<class 'pandas.core.frame.DataFrame'>\n",
      "RangeIndex: 1154 entries, 0 to 1153\n",
      "Data columns (total 9 columns):\n",
      " #   Column         Non-Null Count  Dtype         \n",
      "---  ------         --------------  -----         \n",
      " 0   Stations_id    1154 non-null   int64         \n",
      " 1   von_datum      1154 non-null   datetime64[ns]\n",
      " 2   bis_datum      1154 non-null   datetime64[ns]\n",
      " 3   Stationshoehe  1154 non-null   int64         \n",
      " 4   geoBreite      1154 non-null   float64       \n",
      " 5   geoLaenge      1154 non-null   float64       \n",
      " 6   Stationsname   1154 non-null   object        \n",
      " 7   Bundesland     1154 non-null   object        \n",
      " 8   Table          1154 non-null   object        \n",
      "dtypes: datetime64[ns](2), float64(2), int64(2), object(3)\n",
      "memory usage: 81.3+ KB\n"
     ]
    }
   ],
   "source": [
    "stations.info()"
   ]
  },
  {
   "cell_type": "code",
   "execution_count": 4,
   "metadata": {},
   "outputs": [
    {
     "name": "stdout",
     "output_type": "stream",
     "text": [
      "In data are 0 files.\n",
      "In data/wind are 277 files.\n",
      "In data/solar are 245 files.\n",
      "In data/air_temperature are 478 files.\n",
      "\n",
      "Table\n",
      "wind               309\n",
      "solar              325\n",
      "air_temperature    520\n",
      "dtype: int64\n",
      "\n",
      " It is likely that data is not available for all stations.\n"
     ]
    }
   ],
   "source": [
    "for root, dirs, files in os.walk(directory):\n",
    "    print(f'In {root} are {len(files)} files.')\n",
    "\n",
    "print('')\n",
    "print(stations.groupby('Table').size().sort_index(ascending=False))\n",
    "\n",
    "print('\\n It is likely that data is not available for all stations.')"
   ]
  },
  {
   "cell_type": "code",
   "execution_count": null,
   "metadata": {},
   "outputs": [
    {
     "name": "stdout",
     "output_type": "stream",
     "text": [
      "526 unique weather stations \n",
      "\n",
      "295 stations with values in 1 tables.\n",
      "97 stations with values in 2 tables.\n",
      "134 stations with values in 3 tables.\n",
      "\n",
      "Absolute number of stations for:\n"
     ]
    },
    {
     "data": {
      "text/plain": [
       "Table\n",
       "air_temperature    463\n",
       "solar              163\n",
       "wind               265\n",
       "dtype: int64"
      ]
     },
     "execution_count": 5,
     "metadata": {},
     "output_type": "execute_result"
    }
   ],
   "source": [
    "stations.drop(stations[stations.bis_datum < to_date].index, inplace=True)\n",
    "stations.drop(stations[stations.von_datum > from_date].index, inplace=True)\n",
    "\n",
    "counts = stations.groupby(['Stations_id']).size().value_counts().sort_index()\n",
    "table_counts = stations.groupby(['Stations_id', 'Table']).size()\n",
    "\n",
    "print(f'{len(stations.Stations_id.unique())} unique weather stations \\n')\n",
    "\n",
    "for e, c in enumerate(counts, start=1):\n",
    "    print(f'{c} stations with values in {e} tables.')\n",
    "\n",
    "print('\\nAbsolute number of stations for:')\n",
    "stations.groupby('Table').size()"
   ]
  },
  {
   "cell_type": "code",
   "execution_count": 6,
   "metadata": {},
   "outputs": [
    {
     "data": {
      "text/html": [
       "<div>\n",
       "<style scoped>\n",
       "    .dataframe tbody tr th:only-of-type {\n",
       "        vertical-align: middle;\n",
       "    }\n",
       "\n",
       "    .dataframe tbody tr th {\n",
       "        vertical-align: top;\n",
       "    }\n",
       "\n",
       "    .dataframe thead th {\n",
       "        text-align: right;\n",
       "    }\n",
       "</style>\n",
       "<table border=\"1\" class=\"dataframe\">\n",
       "  <thead>\n",
       "    <tr style=\"text-align: right;\">\n",
       "      <th></th>\n",
       "      <th>air_temperature</th>\n",
       "      <th>solar</th>\n",
       "      <th>wind</th>\n",
       "    </tr>\n",
       "  </thead>\n",
       "  <tbody>\n",
       "    <tr>\n",
       "      <th>air_temperature</th>\n",
       "      <td>232</td>\n",
       "      <td>163</td>\n",
       "      <td>202</td>\n",
       "    </tr>\n",
       "    <tr>\n",
       "      <th>solar</th>\n",
       "      <td>163</td>\n",
       "      <td>0</td>\n",
       "      <td>134</td>\n",
       "    </tr>\n",
       "    <tr>\n",
       "      <th>wind</th>\n",
       "      <td>202</td>\n",
       "      <td>134</td>\n",
       "      <td>63</td>\n",
       "    </tr>\n",
       "  </tbody>\n",
       "</table>\n",
       "</div>"
      ],
      "text/plain": [
       "                 air_temperature  solar  wind\n",
       "air_temperature              232    163   202\n",
       "solar                        163      0   134\n",
       "wind                         202    134    63"
      ]
     },
     "execution_count": 6,
     "metadata": {},
     "output_type": "execute_result"
    }
   ],
   "source": [
    "grouped = stations.groupby(['Stations_id'])['Table'].apply(list)\n",
    "\n",
    "combination_counts = {}\n",
    "for categories in grouped:\n",
    "    for pair in combinations(categories, 2):\n",
    "        pair = tuple(sorted(pair))\n",
    "        combination_counts[pair] = combination_counts.get(pair, 0) + 1\n",
    "    \n",
    "grouped_counts = stations.groupby([\"Stations_id\", \"Table\"]).size().unstack(fill_value=0)\n",
    "single_entries = grouped_counts[grouped_counts.sum(axis=1) == 1].sum()\n",
    "\n",
    "categories = [\"air_temperature\", \"solar\", \"wind\"]\n",
    "matrix = pd.DataFrame(0, index=categories, columns=categories)\n",
    "\n",
    "for (cat1, cat2), count in combination_counts.items():\n",
    "    matrix.loc[cat1, cat2] += count\n",
    "    matrix.loc[cat2, cat1] += count  \n",
    "\n",
    "for category in categories:\n",
    "    if category in single_entries:\n",
    "        matrix.loc[category, category] = single_entries[category]\n",
    "        \n",
    "matrix"
   ]
  },
  {
   "cell_type": "code",
   "execution_count": 7,
   "metadata": {},
   "outputs": [],
   "source": [
    "valid_stations = (\n",
    "    stations.groupby(\"Stations_id\")[\"Table\"]\n",
    "    .apply(lambda x: set(x) == {\"air_temperature\", \"solar\", \"wind\"})\n",
    ")\n",
    "\n",
    "valid_stations_ids = valid_stations[valid_stations].index\n",
    "\n",
    "stations3 = stations[stations[\"Stations_id\"].isin(valid_stations_ids)]"
   ]
  },
  {
   "cell_type": "code",
   "execution_count": 8,
   "metadata": {},
   "outputs": [
    {
     "name": "stdout",
     "output_type": "stream",
     "text": [
      "134 unique weather stations after cleaning. \n",
      "\n"
     ]
    },
    {
     "data": {
      "image/png": "[encoded data removed]",
      "text/plain": [
       "<Figure size 700x700 with 1 Axes>"
      ]
     },
     "metadata": {},
     "output_type": "display_data"
    }
   ],
   "source": [
    "germany = gpd.read_file('geoBoundaries-DE.geojson')\n",
    "\n",
    "geometry = [Point(xy) for xy in zip(stations3['geoLaenge'], stations3['geoBreite'])]\n",
    "geo_df = gpd.GeoDataFrame(stations3, geometry=geometry)\n",
    "\n",
    "print(f'{len(stations3.Stations_id.unique())} unique weather stations after cleaning. \\n')\n",
    "\n",
    "fig, ax = plt.subplots(figsize=(7, 7))\n",
    "germany.plot(ax=ax, color='lightgrey')  \n",
    "geo_df.plot(ax=ax, \n",
    "            label='Stations', \n",
    "            markersize=10, \n",
    "            legend=True)\n",
    "\n",
    "stretch_factor = 0.75 \n",
    "ax.set_aspect(1 / stretch_factor, adjustable='datalim')\n",
    "\n",
    "plt.title('Weather Stations in Germany', fontsize=14)\n",
    "plt.xlabel('Longitude')\n",
    "plt.ylabel('Latitude')\n",
    "\n",
    "plt.show()"
   ]
  },
  {
   "cell_type": "code",
   "execution_count": 58,
   "metadata": {},
   "outputs": [],
   "source": [
    "stations_ids = stations3.Stations_id.unique()\n",
    "\n",
    "# get list of relevant station files\n",
    "file_paths = []\n",
    "for root, dirs, files in os.walk(directory):\n",
    "    for file in files:\n",
    "        if 'produkt' in file:\n",
    "            file_split = re.split(r'[_\\.]', file)\n",
    "            \n",
    "            to_date_file = datetime.strptime(file_split[5], '%Y%m%d')\n",
    "            \n",
    "            in_date = not to_date_file < datetime.strptime(to_date, '%Y-%m-%d')  \n",
    "            in_ids = int(file_split[-2]) in stations_ids\n",
    "            \n",
    "            if in_date and in_ids:\n",
    "                file_paths.append(os.path.join(root, file))"
   ]
  },
  {
   "cell_type": "code",
   "execution_count": null,
   "metadata": {},
   "outputs": [],
   "source": [
    "# check if the list of files contains all relevant stations\n",
    "extracted_data = []\n",
    "\n",
    "for path in file_paths:\n",
    "    parts = re.split(r'[\\/_.]', path) \n",
    "    category = parts[1]               \n",
    "    if category == \"air\":\n",
    "        category = \"air_temperature\"\n",
    "        date = parts[8]       \n",
    "        station_id = parts[9] \n",
    "    else:\n",
    "        date = parts[7]       \n",
    "        station_id = parts[8]\n",
    "           \n",
    "    extracted_data.append([category, date, station_id])\n",
    "\n",
    "df_proof = pd.DataFrame(extracted_data, columns=[\"Category\", \"Date\", \"Station_ID\"])\n"
   ]
  },
  {
   "cell_type": "code",
   "execution_count": null,
   "metadata": {},
   "outputs": [
    {
     "data": {
      "text/plain": [
       "Category\n",
       "air_temperature    134\n",
       "solar              134\n",
       "wind               134\n",
       "dtype: int64"
      ]
     },
     "execution_count": 61,
     "metadata": {},
     "output_type": "execute_result"
    }
   ],
   "source": [
    "df_proof.groupby('Category').size()"
   ]
  },
  {
   "cell_type": "code",
   "execution_count": null,
   "metadata": {},
   "outputs": [
    {
     "name": "stdout",
     "output_type": "stream",
     "text": [
      "The stations are consistent with your stations_ids list.\n"
     ]
    }
   ],
   "source": [
    "proof = [id for id in df_proof.Station_ID.unique() if not int(id) in stations_ids]\n",
    "        \n",
    "if proof:\n",
    "    print('There are inconsistent stations in your data frame.')\n",
    "else:\n",
    "    print('The stations are consistent with your stations_ids list.')"
   ]
  },
  {
   "cell_type": "code",
   "execution_count": null,
   "metadata": {},
   "outputs": [],
   "source": [
    "# group paths by stations_id\n",
    "\n",
    "grouped = defaultdict(lambda: {\"wind\": None, \"solar\": None, \"air_temperature\": None})\n",
    "\n",
    "for path in file_paths:\n",
    "    parts = re.split(r'[\\/_.]', path)\n",
    "    category = parts[1]  \n",
    "    station_id = parts[-2]\n",
    "    \n",
    "    if category == \"air\":\n",
    "        category = \"air_temperature\"\n",
    "    \n",
    "    grouped[station_id][category] = path\n",
    "\n",
    "structured_list = []\n",
    "for station_id, paths in grouped.items():\n",
    "    if all(paths[cat] for cat in [\"wind\", \"solar\", \"air_temperature\"]):\n",
    "        structured_list.append([\n",
    "            paths[\"air_temperature\"],\n",
    "            paths[\"wind\"],\n",
    "            paths[\"solar\"]\n",
    "        ])"
   ]
  },
  {
   "cell_type": "code",
   "execution_count": null,
   "metadata": {},
   "outputs": [],
   "source": [
    "# merge dataframes by stations_ids\n",
    "\n",
    "final_df = []\n",
    "\n",
    "for ele in structured_list:\n",
    "    station_df = None\n",
    "    \n",
    "    for file in ele:\n",
    "        station_id = re.search(r'_(\\d{5})\\.txt$', file).group(1)\n",
    "        raw = pd.read_csv(file, sep=';')\n",
    "        raw['timestamp'] = pd.to_datetime(raw['MESS_DATUM'], format='%Y%m%d%H%M')\n",
    "        raw.set_index('timestamp', inplace=True)\n",
    "        raw.drop(['MESS_DATUM', 'eor'], axis=1, inplace=True)\n",
    "        raw['STATIONS_ID'] = station_id\n",
    "        \n",
    "        if station_df is not None:\n",
    "            station_df = pd.merge(station_df, raw, how='outer', on=['timestamp', 'STATIONS_ID'])\n",
    "        else:\n",
    "            station_df = raw.copy()\n",
    "    \n",
    "    final_df.append(station_df)"
   ]
  },
  {
   "cell_type": "code",
   "execution_count": 113,
   "metadata": {},
   "outputs": [],
   "source": [
    "# write csv from final dataframes\n",
    "\n",
    "os.makedirs(target_dir, exist_ok=True)\n",
    "for df in final_df:\n",
    "    file_name = f'Station_{str(df.STATIONS_ID.unique()[0])}.csv'\n",
    "    dir = os.path.join(directory, 'final', file_name)\n",
    "    df.to_csv(dir)"
   ]
  },
  {
   "cell_type": "code",
   "execution_count": null,
   "metadata": {},
   "outputs": [],
   "source": []
  }
 ],
 "metadata": {
  "kernelspec": {
   "display_name": "dwd_obs",
   "language": "python",
   "name": "dwd_obs"
  },
  "language_info": {
   "codemirror_mode": {
    "name": "ipython",
    "version": 3
   },
   "file_extension": ".py",
   "mimetype": "text/x-python",
   "name": "python",
   "nbconvert_exporter": "python",
   "pygments_lexer": "ipython3",
   "version": "3.10.12"
  }
 },
 "nbformat": 4,
 "nbformat_minor": 2
}
