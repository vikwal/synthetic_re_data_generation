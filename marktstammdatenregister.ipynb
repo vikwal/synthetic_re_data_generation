{
 "cells": [
  {
   "cell_type": "markdown",
   "metadata": {},
   "source": [
    "# Marktstammdatenregister\n",
    "https://www.marktstammdatenregister.de/MaStR/Datendownload"
   ]
  },
  {
   "cell_type": "code",
   "execution_count": 1,
   "metadata": {},
   "outputs": [],
   "source": [
    "import os\n",
    "import re\n",
    "import xml.etree.ElementTree as ET"
   ]
  },
  {
   "cell_type": "code",
   "execution_count": 2,
   "metadata": {},
   "outputs": [],
   "source": [
    "# params\n",
    "dir = 'data/Marktstammdatenregister'\n",
    "\n",
    "features = ['AnlagenEegSolar', 'AnlagenEegWind', 'EinheitenSolar']"
   ]
  },
  {
   "cell_type": "code",
   "execution_count": 3,
   "metadata": {},
   "outputs": [],
   "source": [
    "def extract_sort_key(filepath):\n",
    "    match = re.search(r'/(.+?)_(\\d+)\\.xml$', filepath)\n",
    "    if match:\n",
    "        category = match.group(1)\n",
    "        number = int(match.group(2)) \n",
    "    else:\n",
    "        category = filepath.split('/')[-1]\n",
    "        number = float('inf')\n",
    "    return category, number\n",
    "\n",
    "def read_xml(file_path):\n",
    "    \"\"\"\n",
    "    Liest eine XML-Datei ein und gibt den Wurzelknoten zurück.\n",
    "    \n",
    "    :param file_path: Pfad zur XML-Datei\n",
    "    :return: Wurzel des XML-Baums (ElementTree.Element)\n",
    "    \"\"\"\n",
    "    try:\n",
    "        tree = ET.parse(file_path)\n",
    "        root = tree.getroot()\n",
    "        print(f\"XML-Datei erfolgreich eingelesen: {file_path}\")\n",
    "        return root\n",
    "    except ET.ParseError as e:\n",
    "        print(f\"Fehler beim Einlesen der XML-Datei: {e}\")\n",
    "        return None\n",
    "    except FileNotFoundError:\n",
    "        print(f\"Datei nicht gefunden: {file_path}\")\n",
    "        return None\n",
    "    \n",
    "def print_xml_structure(element, level=0):\n",
    "    \"\"\"\n",
    "    Gibt die Struktur eines XML-Baums rekursiv aus.\n",
    "    \n",
    "    :param element: XML-Element\n",
    "    :param level: Aktuelle Ebene der Rekursion (für Einrückungen)\n",
    "    \"\"\"\n",
    "    indent = \"  \" * level\n",
    "    print(f\"{indent}Tag: {element.tag}, Attribute: {element.attrib}\")\n",
    "    for child in element:\n",
    "        print_xml_structure(child, level + 1)\n",
    "        \n",
    "\n",
    "def find_non_zero_attributes(element):\n",
    "    \"\"\"\n",
    "    Findet alle Attribute in einem XML-Baum, deren Werte nicht 0 sind.\n",
    "    \n",
    "    :param element: XML-Element\n",
    "    \"\"\"\n",
    "    for child in element:\n",
    "        non_zero_attrs = {k: v for k, v in child.attrib.items() if v != 0}\n",
    "        if non_zero_attrs:\n",
    "            print(f\"Tag: {child.tag}, Nicht-Null-Attribute: {non_zero_attrs}\")\n",
    "        find_non_zero_attributes(child)"
   ]
  },
  {
   "cell_type": "code",
   "execution_count": 4,
   "metadata": {},
   "outputs": [],
   "source": [
    "file_names = os.listdir(dir)\n",
    "paths = [os.path.join(dir, file) for file in file_names]\n",
    "paths = [path for path in paths if any(feature in path for feature in features)]\n",
    "paths = sorted(paths, key=extract_sort_key)"
   ]
  },
  {
   "cell_type": "code",
   "execution_count": null,
   "metadata": {},
   "outputs": [],
   "source": [
    "file = paths[50]\n",
    "\n",
    "root = read_xml(file)"
   ]
  },
  {
   "cell_type": "code",
   "execution_count": null,
   "metadata": {},
   "outputs": [],
   "source": [
    "print_xml_structure(root)"
   ]
  },
  {
   "cell_type": "code",
   "execution_count": null,
   "metadata": {},
   "outputs": [],
   "source": []
  }
 ],
 "metadata": {
  "kernelspec": {
   "display_name": "synthre",
   "language": "python",
   "name": "synthre"
  },
  "language_info": {
   "codemirror_mode": {
    "name": "ipython",
    "version": 3
   },
   "file_extension": ".py",
   "mimetype": "text/x-python",
   "name": "python",
   "nbconvert_exporter": "python",
   "pygments_lexer": "ipython3",
   "version": "3.10.12"
  }
 },
 "nbformat": 4,
 "nbformat_minor": 2
}
