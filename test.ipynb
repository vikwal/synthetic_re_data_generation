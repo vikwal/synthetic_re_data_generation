{
 "cells": [
  {
   "cell_type": "code",
   "execution_count": 14,
   "id": "e57044a3",
   "metadata": {},
   "outputs": [],
   "source": [
    "import os\n",
    "import re\n",
    "import pandas as pd\n",
    "import pickle as pkl\n",
    "import time\n",
    "\n",
    "import utils, get_nwp"
   ]
  },
  {
   "cell_type": "code",
   "execution_count": 6,
   "id": "10780ad2",
   "metadata": {},
   "outputs": [],
   "source": [
    "config = utils.load_config('config.yaml')\n",
    "db_config = config['write']['db_conf']\n",
    "\n",
    "stations = ['00853', '02907']\n",
    "#recent_dfs = pkl.load(open(os.path.join('data', config['write']['recent_pkl']), 'rb'))\n",
    "#master_pkl = pkl.load(open(os.path.join('data', config['write']['master_pkl']), 'rb'))"
   ]
  },
  {
   "cell_type": "code",
   "execution_count": null,
   "id": "2ae117ee",
   "metadata": {},
   "outputs": [],
   "source": [
    "master_data = utils.get_master_data(db_config=db_config)\n",
    "# locs = master_data[['longitude', 'latitude']]\n",
    "# locations = []\n",
    "# for lon, lat in locs.values:\n",
    "#     latitude, longitude = get_nwp.get_nearest_point(db_config=db_config,\n",
    "#                                             table='AnalysisFields',\n",
    "#                                             latitude=lat,\n",
    "#                                             longitude=lon)\n",
    "#     locations.append((latitude, longitude))"
   ]
  },
  {
   "cell_type": "code",
   "execution_count": 12,
   "id": "eeb0fbde",
   "metadata": {},
   "outputs": [],
   "source": [
    "specs = pd.read_csv(os.path.join(config['data']['turbine_dir'], config['data']['turbine_specs']))"
   ]
  },
  {
   "cell_type": "code",
   "execution_count": 16,
   "id": "2dd79d8d",
   "metadata": {},
   "outputs": [
    {
     "data": {
      "text/plain": [
       "'00853'"
      ]
     },
     "execution_count": 16,
     "metadata": {},
     "output_type": "execute_result"
    }
   ],
   "source": [
    "re.search(r'synth_(\\d{5})\\.csv', 'synth_00853.csv').group(1)"
   ]
  },
  {
   "cell_type": "code",
   "execution_count": null,
   "id": "f0fe7997",
   "metadata": {},
   "outputs": [],
   "source": [
    "lat, lon = master_data[master_data['station_id'] == '00164'][['latitude', 'longitude']].values[0]\n",
    "nearest_lat, nearest_lon = get_nwp.get_nearest_point(db_config=db_config,\n",
    "                                    table=\"singlelevelfields\",\n",
    "                                    latitude=lat,\n",
    "                                    longitude=lon)\n",
    "forecasts = get_nwp.query_for_location(config=config,\n",
    "                                    table=\"multilevelfields\",\n",
    "                                    latitude=nearest_lat,\n",
    "                                    longitude=nearest_lon)"
   ]
  },
  {
   "cell_type": "code",
   "execution_count": null,
   "id": "ac221b1d",
   "metadata": {},
   "outputs": [],
   "source": [
    "forecasts"
   ]
  },
  {
   "cell_type": "code",
   "execution_count": null,
   "id": "fb74f011",
   "metadata": {},
   "outputs": [],
   "source": [
    "lat, lon = master_data[master_data['station_id'] == '00164'][['latitude', 'longitude']].values[0]\n",
    "nearest_lat, nearest_lon = get_nwp.get_nearest_point(db_config=db_config,\n",
    "                                    table=\"singlelevelfields\",\n",
    "                                    latitude=lat,\n",
    "                                    longitude=lon)\n",
    "w_vert = get_nwp.query_for_location(config=config,\n",
    "                                    table=\"analysisfields\",\n",
    "                                    latitude=nearest_lat,\n",
    "                                    longitude=nearest_lon)\n",
    "w_vert['starttime'] = pd.to_datetime(w_vert['starttime'], utc=True)\n",
    "w_vert['timestamp'] = w_vert['starttime'] + pd.to_timedelta(w_vert['forecasttime'], unit='h')\n",
    "w_vert.set_index('timestamp', inplace=True)\n",
    "w_vert.drop(['starttime', 'forecasttime', 'toplevel', 'bottomlevel'], axis=1, inplace=True)"
   ]
  },
  {
   "cell_type": "code",
   "execution_count": null,
   "id": "7f1feac2",
   "metadata": {},
   "outputs": [],
   "source": []
  },
  {
   "cell_type": "code",
   "execution_count": null,
   "id": "4bccbdda",
   "metadata": {},
   "outputs": [],
   "source": [
    "w_vert"
   ]
  },
  {
   "cell_type": "code",
   "execution_count": 6,
   "id": "8f5d60fb",
   "metadata": {},
   "outputs": [],
   "source": [
    "# save locatiobns as pickle\n",
    "with open('locations.pkl', 'wb') as f:\n",
    "    pkl.dump(locations, f)"
   ]
  },
  {
   "cell_type": "code",
   "execution_count": 9,
   "id": "9bb063da",
   "metadata": {},
   "outputs": [],
   "source": [
    "# now read the pickle file\n",
    "with open('locations.pkl', 'rb') as f:\n",
    "    locations = pkl.load(f)"
   ]
  },
  {
   "cell_type": "code",
   "execution_count": null,
   "id": "53931077",
   "metadata": {},
   "outputs": [],
   "source": []
  }
 ],
 "metadata": {
  "kernelspec": {
   "display_name": "synthre",
   "language": "python",
   "name": "python3"
  },
  "language_info": {
   "codemirror_mode": {
    "name": "ipython",
    "version": 3
   },
   "file_extension": ".py",
   "mimetype": "text/x-python",
   "name": "python",
   "nbconvert_exporter": "python",
   "pygments_lexer": "ipython3",
   "version": "3.12.3"
  }
 },
 "nbformat": 4,
 "nbformat_minor": 5
}
